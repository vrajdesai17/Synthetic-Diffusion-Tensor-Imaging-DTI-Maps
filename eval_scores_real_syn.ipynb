{
 "cells": [
  {
   "cell_type": "code",
   "execution_count": 1,
   "id": "9d10f769-36cc-4329-8ff0-7909056be5e1",
   "metadata": {},
   "outputs": [
    {
     "name": "stderr",
     "output_type": "stream",
     "text": [
      "/scratch/faculty/thompson/chirag_tmp/miniconda3/envs/myenvnew/lib/python3.8/site-packages/tqdm/auto.py:22: TqdmWarning: IProgress not found. Please update jupyter and ipywidgets. See https://ipywidgets.readthedocs.io/en/stable/user_install.html\n",
      "  from .autonotebook import tqdm as notebook_tqdm\n"
     ]
    },
    {
     "name": "stdout",
     "output_type": "stream",
     "text": [
      "Current GPU: 6\n"
     ]
    }
   ],
   "source": [
    "import os\n",
    "import shutil\n",
    "import tempfile\n",
    "import numpy as np\n",
    "from itertools import combinations\n",
    "\n",
    "import matplotlib.pyplot as plt\n",
    "import torch\n",
    "import torch.nn.functional as F\n",
    "from monai import transforms\n",
    "from monai.apps import DecathlonDataset\n",
    "from monai.config import print_config\n",
    "from monai.data import DataLoader\n",
    "from monai.utils import first, set_determinism\n",
    "from torch.cuda.amp import GradScaler, autocast\n",
    "from torch.nn import L1Loss\n",
    "from tqdm import tqdm\n",
    "\n",
    "from monai.transforms import (\n",
    "    EnsureChannelFirstd,\n",
    "    CenterSpatialCropd,\n",
    "    Compose,\n",
    "    Lambdad,\n",
    "    LoadImaged,\n",
    "    Resized,\n",
    "    ScaleIntensityd,\n",
    ")\n",
    "from monai.utils import set_determinism\n",
    "from torch.cuda.amp import GradScaler, autocast\n",
    "from tqdm import tqdm\n",
    "\n",
    "from generative.inferers import DiffusionInferer\n",
    "from generative.networks.nets import DiffusionModelUNet\n",
    "from generative.networks.schedulers import DDPMScheduler, DDIMScheduler\n",
    "from monai.data import (\n",
    "    CacheDataset,\n",
    "    Dataset,\n",
    "    DataLoader,\n",
    "    LMDBDataset,\n",
    "    PersistentDataset,\n",
    "    decollate_batch,\n",
    ")\n",
    "\n",
    "from generative.inferers import LatentDiffusionInferer\n",
    "from generative.losses import PatchAdversarialLoss, PerceptualLoss\n",
    "from generative.networks.nets import AutoencoderKL, DiffusionModelUNet, PatchDiscriminator\n",
    "from generative.networks.schedulers import DDPMScheduler\n",
    "from generative.metrics import FIDMetric, MMDMetric, MultiScaleSSIMMetric, SSIMMetric\n",
    "\n",
    "GPU_NUM = '6'\n",
    "os.environ[\"CUDA_DEVICE_ORDER\"]=\"PCI_BUS_ID\"  \n",
    "os.environ[\"CUDA_VISIBLE_DEVICES\"] = GPU_NUM\n",
    "os.environ[\"CUDA_LAUNCH_BLOCKING\"] = \"1\"\n",
    "print(\"Current GPU:\",  os.environ[\"CUDA_VISIBLE_DEVICES\"])\n",
    "\n",
    "import torch.multiprocessing as mp\n",
    "mp.set_sharing_strategy('file_system')\n",
    "\n",
    "device = torch.device(f\"cuda:{GPU_NUM}\" if torch.cuda.is_available() else \"cpu\") #ADDED LATER"
   ]
  },
  {
   "cell_type": "code",
   "execution_count": 2,
   "id": "532cd4f5-8a0c-465e-a094-6875936f6b9e",
   "metadata": {},
   "outputs": [],
   "source": [
    "# pip install --upgrade numpy"
   ]
  },
  {
   "cell_type": "code",
   "execution_count": 3,
   "id": "6cf38766-5f34-4381-b02b-d76279f058f2",
   "metadata": {},
   "outputs": [
    {
     "name": "stdout",
     "output_type": "stream",
     "text": [
      "Sun Jan 12 20:03:36 2025       \n",
      "+-----------------------------------------------------------------------------+\n",
      "| NVIDIA-SMI 460.106.00   Driver Version: 460.106.00   CUDA Version: 11.2     |\n",
      "|-------------------------------+----------------------+----------------------+\n",
      "| GPU  Name        Persistence-M| Bus-Id        Disp.A | Volatile Uncorr. ECC |\n",
      "| Fan  Temp  Perf  Pwr:Usage/Cap|         Memory-Usage | GPU-Util  Compute M. |\n",
      "|                               |                      |               MIG M. |\n",
      "|===============================+======================+======================|\n",
      "|   0  Tesla V100-SXM2...  Off  | 00000000:1B:00.0 Off |                    0 |\n",
      "| N/A   40C    P0    60W / 300W |   5234MiB / 32510MiB |      0%      Default |\n",
      "|                               |                      |                  N/A |\n",
      "+-------------------------------+----------------------+----------------------+\n",
      "|   1  Tesla V100-SXM2...  Off  | 00000000:1C:00.0 Off |                    0 |\n",
      "| N/A   40C    P0    60W / 300W |   7856MiB / 32510MiB |      0%      Default |\n",
      "|                               |                      |                  N/A |\n",
      "+-------------------------------+----------------------+----------------------+\n",
      "|   2  Tesla V100-SXM2...  Off  | 00000000:47:00.0 Off |                    0 |\n",
      "| N/A   40C    P0    47W / 300W |      3MiB / 32510MiB |      0%      Default |\n",
      "|                               |                      |                  N/A |\n",
      "+-------------------------------+----------------------+----------------------+\n",
      "|   3  Tesla V100-SXM2...  Off  | 00000000:48:00.0 Off |                    0 |\n",
      "| N/A   61C    P0   158W / 300W |  23674MiB / 32510MiB |    100%      Default |\n",
      "|                               |                      |                  N/A |\n",
      "+-------------------------------+----------------------+----------------------+\n",
      "|   4  Tesla V100-SXM2...  Off  | 00000000:89:00.0 Off |                    0 |\n",
      "| N/A   66C    P0   281W / 300W |  24364MiB / 32510MiB |    100%      Default |\n",
      "|                               |                      |                  N/A |\n",
      "+-------------------------------+----------------------+----------------------+\n",
      "|   5  Tesla V100-SXM2...  Off  | 00000000:8A:00.0 Off |                    0 |\n",
      "| N/A   45C    P0    79W / 300W |  13723MiB / 32510MiB |      2%      Default |\n",
      "|                               |                      |                  N/A |\n",
      "+-------------------------------+----------------------+----------------------+\n",
      "|   6  Tesla V100-SXM2...  Off  | 00000000:B2:00.0 Off |                    0 |\n",
      "| N/A   41C    P0    63W / 300W |   5296MiB / 32510MiB |     18%      Default |\n",
      "|                               |                      |                  N/A |\n",
      "+-------------------------------+----------------------+----------------------+\n",
      "|   7  Tesla V100-SXM2...  Off  | 00000000:B3:00.0 Off |                    0 |\n",
      "| N/A   44C    P0    72W / 300W |   5290MiB / 32510MiB |      0%      Default |\n",
      "|                               |                      |                  N/A |\n",
      "+-------------------------------+----------------------+----------------------+\n",
      "                                                                               \n",
      "+-----------------------------------------------------------------------------+\n",
      "| Processes:                                                                  |\n",
      "|  GPU   GI   CI        PID   Type   Process name                  GPU Memory |\n",
      "|        ID   ID                                                   Usage      |\n",
      "|=============================================================================|\n",
      "|    0   N/A  N/A     32634      C   .../envs/myenvnew/bin/python     1103MiB |\n",
      "|    0   N/A  N/A    104671      C   python                           3023MiB |\n",
      "|    0   N/A  N/A    209297      C   .../envs/myenvnew/bin/python     1103MiB |\n",
      "|    1   N/A  N/A    117871      C   python                           7851MiB |\n",
      "|    3   N/A  N/A    162626      C   .../disco20240623/bin/python    23671MiB |\n",
      "|    4   N/A  N/A    271126      C   python                          24361MiB |\n",
      "|    5   N/A  N/A    103577      C   python                          12447MiB |\n",
      "|    5   N/A  N/A    171249      C   .../pytorch3d-new/bin/python     1271MiB |\n",
      "|    6   N/A  N/A     32634      C   .../envs/myenvnew/bin/python     1787MiB |\n",
      "|    6   N/A  N/A    209297      C   .../envs/myenvnew/bin/python     1809MiB |\n",
      "|    6   N/A  N/A    302753      C   .../envs/myenvnew/bin/python     1695MiB |\n",
      "|    7   N/A  N/A    271126      C   python                           5287MiB |\n",
      "+-----------------------------------------------------------------------------+\n"
     ]
    }
   ],
   "source": [
    "!nvidia-smi"
   ]
  },
  {
   "cell_type": "code",
   "execution_count": 4,
   "id": "54110fe6-122f-483f-a873-e5548cc6cdbe",
   "metadata": {},
   "outputs": [
    {
     "name": "stdout",
     "output_type": "stream",
     "text": [
      "\u001b[1m\u001b[37mciscogpu01             \u001b[m  Sun Jan 12 20:03:39 2025  \u001b[1m\u001b[30m460.106.00\u001b[m\n",
      "\u001b[36m[0]\u001b[m \u001b[34mTesla V100-SXM2-32GB\u001b[m |\u001b[31m 40°C\u001b[m, \u001b[32m  0 %\u001b[m | \u001b[36m\u001b[1m\u001b[33m 5234\u001b[m / \u001b[33m32510\u001b[m MB | \u001b[1m\u001b[30mcjagad\u001b[m(\u001b[33m3023M\u001b[m) \u001b[1m\u001b[30mcjagad\u001b[m(\u001b[33m1103M\u001b[m) \u001b[1m\u001b[30mcjagad\u001b[m(\u001b[33m1103M\u001b[m)\n",
      "\u001b[36m[1]\u001b[m \u001b[34mTesla V100-SXM2-32GB\u001b[m |\u001b[31m 40°C\u001b[m, \u001b[32m  0 %\u001b[m | \u001b[36m\u001b[1m\u001b[33m 7856\u001b[m / \u001b[33m32510\u001b[m MB | \u001b[1m\u001b[30mcjagad\u001b[m(\u001b[33m7851M\u001b[m)\n",
      "\u001b[36m[2]\u001b[m \u001b[34mTesla V100-SXM2-32GB\u001b[m |\u001b[31m 40°C\u001b[m, \u001b[32m  0 %\u001b[m | \u001b[36m\u001b[1m\u001b[33m    3\u001b[m / \u001b[33m32510\u001b[m MB |\n",
      "\u001b[36m[3]\u001b[m \u001b[34mTesla V100-SXM2-32GB\u001b[m |\u001b[1m\u001b[31m 61°C\u001b[m, \u001b[1m\u001b[32m100 %\u001b[m | \u001b[36m\u001b[1m\u001b[33m23674\u001b[m / \u001b[33m32510\u001b[m MB | \u001b[1m\u001b[30myqiao\u001b[m(\u001b[33m23671M\u001b[m)\n",
      "\u001b[36m[4]\u001b[m \u001b[34mTesla V100-SXM2-32GB\u001b[m |\u001b[1m\u001b[31m 65°C\u001b[m, \u001b[1m\u001b[32m100 %\u001b[m | \u001b[36m\u001b[1m\u001b[33m24364\u001b[m / \u001b[33m32510\u001b[m MB | \u001b[1m\u001b[30mhlan\u001b[m(\u001b[33m24361M\u001b[m)\n",
      "\u001b[36m[5]\u001b[m \u001b[34mTesla V100-SXM2-32GB\u001b[m |\u001b[31m 45°C\u001b[m, \u001b[32m  2 %\u001b[m | \u001b[36m\u001b[1m\u001b[33m13723\u001b[m / \u001b[33m32510\u001b[m MB | \u001b[1m\u001b[30mcjagad\u001b[m(\u001b[33m12447M\u001b[m) \u001b[1m\u001b[30mczang\u001b[m(\u001b[33m1271M\u001b[m)\n",
      "\u001b[36m[6]\u001b[m \u001b[34mTesla V100-SXM2-32GB\u001b[m |\u001b[31m 41°C\u001b[m, \u001b[32m 17 %\u001b[m | \u001b[36m\u001b[1m\u001b[33m 5296\u001b[m / \u001b[33m32510\u001b[m MB | \u001b[1m\u001b[30mcjagad\u001b[m(\u001b[33m1695M\u001b[m) \u001b[1m\u001b[30mcjagad\u001b[m(\u001b[33m1787M\u001b[m) \u001b[1m\u001b[30mcjagad\u001b[m(\u001b[33m1809M\u001b[m)\n",
      "\u001b[36m[7]\u001b[m \u001b[34mTesla V100-SXM2-32GB\u001b[m |\u001b[31m 44°C\u001b[m, \u001b[32m  0 %\u001b[m | \u001b[36m\u001b[1m\u001b[33m 5290\u001b[m / \u001b[33m32510\u001b[m MB | \u001b[1m\u001b[30mhlan\u001b[m(\u001b[33m5287M\u001b[m)\n"
     ]
    }
   ],
   "source": [
    "!gpustat"
   ]
  },
  {
   "cell_type": "code",
   "execution_count": 5,
   "id": "2aedd216-3879-4fb7-8939-f976d93a70a0",
   "metadata": {},
   "outputs": [],
   "source": [
    "ms_ssim = MultiScaleSSIMMetric(spatial_dims=3, data_range=1.0, kernel_size=2)\n",
    "ssim = SSIMMetric(spatial_dims=3, data_range=1.0, kernel_size=2)\n",
    "mmd = MMDMetric()"
   ]
  },
  {
   "cell_type": "code",
   "execution_count": 6,
   "id": "cd1e5abf-1523-446f-8c75-3389ccaedafb",
   "metadata": {},
   "outputs": [],
   "source": [
    "def load_images_from_folder(folder):\n",
    "    images = []\n",
    "    for filename in os.listdir(folder):\n",
    "        if filename.endswith(\".npy\"):\n",
    "            img_path = os.path.join(folder, filename)\n",
    "            img = np.load(img_path)\n",
    "            images.append(img)\n",
    "    return images"
   ]
  },
  {
   "cell_type": "code",
   "execution_count": 7,
   "id": "bb0bd3e2-aa5e-4902-8d8a-4952c4440f36",
   "metadata": {},
   "outputs": [
    {
     "name": "stdout",
     "output_type": "stream",
     "text": [
      "../cjagad/LDM/2D/2d_data/male/axial\n"
     ]
    }
   ],
   "source": [
    "dataset_name = \"CAMCAN\"\n",
    "dataset_path = \"../cjagad/LDM/2D/2d_data/male/axial\" \n",
    "os.environ[\"MONAI_DATA_DIRECTORY\"]= dataset_path\n",
    "directory = os.environ.get(\"MONAI_DATA_DIRECTORY\")\n",
    "root_dir = tempfile.mkdtemp() if directory is None else directory\n",
    "print(root_dir)"
   ]
  },
  {
   "cell_type": "code",
   "execution_count": 8,
   "id": "71f3bd62-1206-45c3-9740-3f3f22c21440",
   "metadata": {},
   "outputs": [],
   "source": [
    "data_transform = Compose(\n",
    "    [\n",
    "        LoadImaged(keys=[\"image\"]),\n",
    "        EnsureChannelFirstd(keys=[\"image\"], channel_dim=\"no_channel\"),\n",
    "        ScaleIntensityd(keys=[\"image\"]),\n",
    "        CenterSpatialCropd(keys=[\"image\"], roi_size=[160, 200, 160]),\n",
    "        Resized(keys=[\"image\"], spatial_size=(64, 64, 64)),\n",
    "    ]\n",
    ")\n",
    "\n"
   ]
  },
  {
   "cell_type": "code",
   "execution_count": 9,
   "id": "4f31977e-c8e8-4e62-87d8-ec7db978b6d7",
   "metadata": {},
   "outputs": [],
   "source": [
    "def get_data_files(root_dir):\n",
    "    nifti_file_names = os.listdir(root_dir)\n",
    "    folder_names = [os.path.join(\n",
    "        root_dir, nifti_file_name) \n",
    "        for nifti_file_name in nifti_file_names \n",
    "        if nifti_file_name.endswith('.nii.gz') or nifti_file_name.endswith('.npy')]\n",
    "    return folder_names"
   ]
  },
  {
   "cell_type": "code",
   "execution_count": 10,
   "id": "dae42c2c-2506-48fd-a2df-9ec466d6d517",
   "metadata": {},
   "outputs": [
    {
     "name": "stdout",
     "output_type": "stream",
     "text": [
      "314\n"
     ]
    }
   ],
   "source": [
    "paths = get_data_files(root_dir)\n",
    "train_files = [{\"image\": path} for path in paths]\n",
    "print(len(train_files))\n",
    "\n",
    "train_dataset = CacheDataset(\n",
    "    data=train_files, transform=data_transform, cache_rate=1.0, runtime_cache=\"processes\", copy_cache=False \n",
    ")\n",
    "\n",
    "train_loader = DataLoader(train_dataset, batch_size=1, num_workers=2, persistent_workers=True)\n"
   ]
  },
  {
   "cell_type": "code",
   "execution_count": 11,
   "id": "089f0f0c-5336-4947-b2d6-df50ed568f44",
   "metadata": {},
   "outputs": [
    {
     "name": "stdout",
     "output_type": "stream",
     "text": [
      "1\n"
     ]
    },
    {
     "ename": "KeyboardInterrupt",
     "evalue": "",
     "output_type": "error",
     "traceback": [
      "\u001b[0;31m---------------------------------------------------------------------------\u001b[0m",
      "\u001b[0;31mKeyboardInterrupt\u001b[0m                         Traceback (most recent call last)",
      "Cell \u001b[0;32mIn[11], line 2\u001b[0m\n\u001b[1;32m      1\u001b[0m male_real_images \u001b[38;5;241m=\u001b[39m []\n\u001b[0;32m----> 2\u001b[0m \u001b[38;5;28;01mfor\u001b[39;00m batch \u001b[38;5;129;01min\u001b[39;00m train_loader:\n\u001b[1;32m      3\u001b[0m     male_real_images\u001b[38;5;241m.\u001b[39mappend(batch[\u001b[38;5;124m'\u001b[39m\u001b[38;5;124mimage\u001b[39m\u001b[38;5;124m'\u001b[39m])\n\u001b[1;32m      4\u001b[0m     \u001b[38;5;28mprint\u001b[39m(\u001b[38;5;28mlen\u001b[39m(male_real_images))\n",
      "File \u001b[0;32m/scratch/faculty/thompson/chirag_tmp/miniconda3/envs/myenvnew/lib/python3.8/site-packages/torch/utils/data/dataloader.py:652\u001b[0m, in \u001b[0;36m_BaseDataLoaderIter.__next__\u001b[0;34m(self)\u001b[0m\n\u001b[1;32m    649\u001b[0m \u001b[38;5;28;01mif\u001b[39;00m \u001b[38;5;28mself\u001b[39m\u001b[38;5;241m.\u001b[39m_sampler_iter \u001b[38;5;129;01mis\u001b[39;00m \u001b[38;5;28;01mNone\u001b[39;00m:\n\u001b[1;32m    650\u001b[0m     \u001b[38;5;66;03m# TODO(https://github.com/pytorch/pytorch/issues/76750)\u001b[39;00m\n\u001b[1;32m    651\u001b[0m     \u001b[38;5;28mself\u001b[39m\u001b[38;5;241m.\u001b[39m_reset()  \u001b[38;5;66;03m# type: ignore[call-arg]\u001b[39;00m\n\u001b[0;32m--> 652\u001b[0m data \u001b[38;5;241m=\u001b[39m \u001b[38;5;28;43mself\u001b[39;49m\u001b[38;5;241;43m.\u001b[39;49m\u001b[43m_next_data\u001b[49m\u001b[43m(\u001b[49m\u001b[43m)\u001b[49m\n\u001b[1;32m    653\u001b[0m \u001b[38;5;28mself\u001b[39m\u001b[38;5;241m.\u001b[39m_num_yielded \u001b[38;5;241m+\u001b[39m\u001b[38;5;241m=\u001b[39m \u001b[38;5;241m1\u001b[39m\n\u001b[1;32m    654\u001b[0m \u001b[38;5;28;01mif\u001b[39;00m \u001b[38;5;28mself\u001b[39m\u001b[38;5;241m.\u001b[39m_dataset_kind \u001b[38;5;241m==\u001b[39m _DatasetKind\u001b[38;5;241m.\u001b[39mIterable \u001b[38;5;129;01mand\u001b[39;00m \\\n\u001b[1;32m    655\u001b[0m         \u001b[38;5;28mself\u001b[39m\u001b[38;5;241m.\u001b[39m_IterableDataset_len_called \u001b[38;5;129;01mis\u001b[39;00m \u001b[38;5;129;01mnot\u001b[39;00m \u001b[38;5;28;01mNone\u001b[39;00m \u001b[38;5;129;01mand\u001b[39;00m \\\n\u001b[1;32m    656\u001b[0m         \u001b[38;5;28mself\u001b[39m\u001b[38;5;241m.\u001b[39m_num_yielded \u001b[38;5;241m>\u001b[39m \u001b[38;5;28mself\u001b[39m\u001b[38;5;241m.\u001b[39m_IterableDataset_len_called:\n",
      "File \u001b[0;32m/scratch/faculty/thompson/chirag_tmp/miniconda3/envs/myenvnew/lib/python3.8/site-packages/torch/utils/data/dataloader.py:1330\u001b[0m, in \u001b[0;36m_MultiProcessingDataLoaderIter._next_data\u001b[0;34m(self)\u001b[0m\n\u001b[1;32m   1327\u001b[0m     \u001b[38;5;28;01mreturn\u001b[39;00m \u001b[38;5;28mself\u001b[39m\u001b[38;5;241m.\u001b[39m_process_data(data)\n\u001b[1;32m   1329\u001b[0m \u001b[38;5;28;01massert\u001b[39;00m \u001b[38;5;129;01mnot\u001b[39;00m \u001b[38;5;28mself\u001b[39m\u001b[38;5;241m.\u001b[39m_shutdown \u001b[38;5;129;01mand\u001b[39;00m \u001b[38;5;28mself\u001b[39m\u001b[38;5;241m.\u001b[39m_tasks_outstanding \u001b[38;5;241m>\u001b[39m \u001b[38;5;241m0\u001b[39m\n\u001b[0;32m-> 1330\u001b[0m idx, data \u001b[38;5;241m=\u001b[39m \u001b[38;5;28;43mself\u001b[39;49m\u001b[38;5;241;43m.\u001b[39;49m\u001b[43m_get_data\u001b[49m\u001b[43m(\u001b[49m\u001b[43m)\u001b[49m\n\u001b[1;32m   1331\u001b[0m \u001b[38;5;28mself\u001b[39m\u001b[38;5;241m.\u001b[39m_tasks_outstanding \u001b[38;5;241m-\u001b[39m\u001b[38;5;241m=\u001b[39m \u001b[38;5;241m1\u001b[39m\n\u001b[1;32m   1332\u001b[0m \u001b[38;5;28;01mif\u001b[39;00m \u001b[38;5;28mself\u001b[39m\u001b[38;5;241m.\u001b[39m_dataset_kind \u001b[38;5;241m==\u001b[39m _DatasetKind\u001b[38;5;241m.\u001b[39mIterable:\n\u001b[1;32m   1333\u001b[0m     \u001b[38;5;66;03m# Check for _IterableDatasetStopIteration\u001b[39;00m\n",
      "File \u001b[0;32m/scratch/faculty/thompson/chirag_tmp/miniconda3/envs/myenvnew/lib/python3.8/site-packages/torch/utils/data/dataloader.py:1296\u001b[0m, in \u001b[0;36m_MultiProcessingDataLoaderIter._get_data\u001b[0;34m(self)\u001b[0m\n\u001b[1;32m   1292\u001b[0m     \u001b[38;5;66;03m# In this case, `self._data_queue` is a `queue.Queue`,. But we don't\u001b[39;00m\n\u001b[1;32m   1293\u001b[0m     \u001b[38;5;66;03m# need to call `.task_done()` because we don't use `.join()`.\u001b[39;00m\n\u001b[1;32m   1294\u001b[0m \u001b[38;5;28;01melse\u001b[39;00m:\n\u001b[1;32m   1295\u001b[0m     \u001b[38;5;28;01mwhile\u001b[39;00m \u001b[38;5;28;01mTrue\u001b[39;00m:\n\u001b[0;32m-> 1296\u001b[0m         success, data \u001b[38;5;241m=\u001b[39m \u001b[38;5;28;43mself\u001b[39;49m\u001b[38;5;241;43m.\u001b[39;49m\u001b[43m_try_get_data\u001b[49m\u001b[43m(\u001b[49m\u001b[43m)\u001b[49m\n\u001b[1;32m   1297\u001b[0m         \u001b[38;5;28;01mif\u001b[39;00m success:\n\u001b[1;32m   1298\u001b[0m             \u001b[38;5;28;01mreturn\u001b[39;00m data\n",
      "File \u001b[0;32m/scratch/faculty/thompson/chirag_tmp/miniconda3/envs/myenvnew/lib/python3.8/site-packages/torch/utils/data/dataloader.py:1134\u001b[0m, in \u001b[0;36m_MultiProcessingDataLoaderIter._try_get_data\u001b[0;34m(self, timeout)\u001b[0m\n\u001b[1;32m   1121\u001b[0m \u001b[38;5;28;01mdef\u001b[39;00m \u001b[38;5;21m_try_get_data\u001b[39m(\u001b[38;5;28mself\u001b[39m, timeout\u001b[38;5;241m=\u001b[39m_utils\u001b[38;5;241m.\u001b[39mMP_STATUS_CHECK_INTERVAL):\n\u001b[1;32m   1122\u001b[0m     \u001b[38;5;66;03m# Tries to fetch data from `self._data_queue` once for a given timeout.\u001b[39;00m\n\u001b[1;32m   1123\u001b[0m     \u001b[38;5;66;03m# This can also be used as inner loop of fetching without timeout, with\u001b[39;00m\n\u001b[0;32m   (...)\u001b[0m\n\u001b[1;32m   1131\u001b[0m     \u001b[38;5;66;03m# Returns a 2-tuple:\u001b[39;00m\n\u001b[1;32m   1132\u001b[0m     \u001b[38;5;66;03m#   (bool: whether successfully get data, any: data if successful else None)\u001b[39;00m\n\u001b[1;32m   1133\u001b[0m     \u001b[38;5;28;01mtry\u001b[39;00m:\n\u001b[0;32m-> 1134\u001b[0m         data \u001b[38;5;241m=\u001b[39m \u001b[38;5;28;43mself\u001b[39;49m\u001b[38;5;241;43m.\u001b[39;49m\u001b[43m_data_queue\u001b[49m\u001b[38;5;241;43m.\u001b[39;49m\u001b[43mget\u001b[49m\u001b[43m(\u001b[49m\u001b[43mtimeout\u001b[49m\u001b[38;5;241;43m=\u001b[39;49m\u001b[43mtimeout\u001b[49m\u001b[43m)\u001b[49m\n\u001b[1;32m   1135\u001b[0m         \u001b[38;5;28;01mreturn\u001b[39;00m (\u001b[38;5;28;01mTrue\u001b[39;00m, data)\n\u001b[1;32m   1136\u001b[0m     \u001b[38;5;28;01mexcept\u001b[39;00m \u001b[38;5;167;01mException\u001b[39;00m \u001b[38;5;28;01mas\u001b[39;00m e:\n\u001b[1;32m   1137\u001b[0m         \u001b[38;5;66;03m# At timeout and error, we manually check whether any worker has\u001b[39;00m\n\u001b[1;32m   1138\u001b[0m         \u001b[38;5;66;03m# failed. Note that this is the only mechanism for Windows to detect\u001b[39;00m\n\u001b[1;32m   1139\u001b[0m         \u001b[38;5;66;03m# worker failures.\u001b[39;00m\n",
      "File \u001b[0;32m/scratch/faculty/thompson/chirag_tmp/miniconda3/envs/myenvnew/lib/python3.8/multiprocessing/queues.py:107\u001b[0m, in \u001b[0;36mQueue.get\u001b[0;34m(self, block, timeout)\u001b[0m\n\u001b[1;32m    105\u001b[0m \u001b[38;5;28;01mif\u001b[39;00m block:\n\u001b[1;32m    106\u001b[0m     timeout \u001b[38;5;241m=\u001b[39m deadline \u001b[38;5;241m-\u001b[39m time\u001b[38;5;241m.\u001b[39mmonotonic()\n\u001b[0;32m--> 107\u001b[0m     \u001b[38;5;28;01mif\u001b[39;00m \u001b[38;5;129;01mnot\u001b[39;00m \u001b[38;5;28;43mself\u001b[39;49m\u001b[38;5;241;43m.\u001b[39;49m\u001b[43m_poll\u001b[49m\u001b[43m(\u001b[49m\u001b[43mtimeout\u001b[49m\u001b[43m)\u001b[49m:\n\u001b[1;32m    108\u001b[0m         \u001b[38;5;28;01mraise\u001b[39;00m Empty\n\u001b[1;32m    109\u001b[0m \u001b[38;5;28;01melif\u001b[39;00m \u001b[38;5;129;01mnot\u001b[39;00m \u001b[38;5;28mself\u001b[39m\u001b[38;5;241m.\u001b[39m_poll():\n",
      "File \u001b[0;32m/scratch/faculty/thompson/chirag_tmp/miniconda3/envs/myenvnew/lib/python3.8/multiprocessing/connection.py:257\u001b[0m, in \u001b[0;36m_ConnectionBase.poll\u001b[0;34m(self, timeout)\u001b[0m\n\u001b[1;32m    255\u001b[0m \u001b[38;5;28mself\u001b[39m\u001b[38;5;241m.\u001b[39m_check_closed()\n\u001b[1;32m    256\u001b[0m \u001b[38;5;28mself\u001b[39m\u001b[38;5;241m.\u001b[39m_check_readable()\n\u001b[0;32m--> 257\u001b[0m \u001b[38;5;28;01mreturn\u001b[39;00m \u001b[38;5;28;43mself\u001b[39;49m\u001b[38;5;241;43m.\u001b[39;49m\u001b[43m_poll\u001b[49m\u001b[43m(\u001b[49m\u001b[43mtimeout\u001b[49m\u001b[43m)\u001b[49m\n",
      "File \u001b[0;32m/scratch/faculty/thompson/chirag_tmp/miniconda3/envs/myenvnew/lib/python3.8/multiprocessing/connection.py:424\u001b[0m, in \u001b[0;36mConnection._poll\u001b[0;34m(self, timeout)\u001b[0m\n\u001b[1;32m    423\u001b[0m \u001b[38;5;28;01mdef\u001b[39;00m \u001b[38;5;21m_poll\u001b[39m(\u001b[38;5;28mself\u001b[39m, timeout):\n\u001b[0;32m--> 424\u001b[0m     r \u001b[38;5;241m=\u001b[39m \u001b[43mwait\u001b[49m\u001b[43m(\u001b[49m\u001b[43m[\u001b[49m\u001b[38;5;28;43mself\u001b[39;49m\u001b[43m]\u001b[49m\u001b[43m,\u001b[49m\u001b[43m \u001b[49m\u001b[43mtimeout\u001b[49m\u001b[43m)\u001b[49m\n\u001b[1;32m    425\u001b[0m     \u001b[38;5;28;01mreturn\u001b[39;00m \u001b[38;5;28mbool\u001b[39m(r)\n",
      "File \u001b[0;32m/scratch/faculty/thompson/chirag_tmp/miniconda3/envs/myenvnew/lib/python3.8/multiprocessing/connection.py:931\u001b[0m, in \u001b[0;36mwait\u001b[0;34m(object_list, timeout)\u001b[0m\n\u001b[1;32m    928\u001b[0m     deadline \u001b[38;5;241m=\u001b[39m time\u001b[38;5;241m.\u001b[39mmonotonic() \u001b[38;5;241m+\u001b[39m timeout\n\u001b[1;32m    930\u001b[0m \u001b[38;5;28;01mwhile\u001b[39;00m \u001b[38;5;28;01mTrue\u001b[39;00m:\n\u001b[0;32m--> 931\u001b[0m     ready \u001b[38;5;241m=\u001b[39m \u001b[43mselector\u001b[49m\u001b[38;5;241;43m.\u001b[39;49m\u001b[43mselect\u001b[49m\u001b[43m(\u001b[49m\u001b[43mtimeout\u001b[49m\u001b[43m)\u001b[49m\n\u001b[1;32m    932\u001b[0m     \u001b[38;5;28;01mif\u001b[39;00m ready:\n\u001b[1;32m    933\u001b[0m         \u001b[38;5;28;01mreturn\u001b[39;00m [key\u001b[38;5;241m.\u001b[39mfileobj \u001b[38;5;28;01mfor\u001b[39;00m (key, events) \u001b[38;5;129;01min\u001b[39;00m ready]\n",
      "File \u001b[0;32m/scratch/faculty/thompson/chirag_tmp/miniconda3/envs/myenvnew/lib/python3.8/selectors.py:415\u001b[0m, in \u001b[0;36m_PollLikeSelector.select\u001b[0;34m(self, timeout)\u001b[0m\n\u001b[1;32m    413\u001b[0m ready \u001b[38;5;241m=\u001b[39m []\n\u001b[1;32m    414\u001b[0m \u001b[38;5;28;01mtry\u001b[39;00m:\n\u001b[0;32m--> 415\u001b[0m     fd_event_list \u001b[38;5;241m=\u001b[39m \u001b[38;5;28;43mself\u001b[39;49m\u001b[38;5;241;43m.\u001b[39;49m\u001b[43m_selector\u001b[49m\u001b[38;5;241;43m.\u001b[39;49m\u001b[43mpoll\u001b[49m\u001b[43m(\u001b[49m\u001b[43mtimeout\u001b[49m\u001b[43m)\u001b[49m\n\u001b[1;32m    416\u001b[0m \u001b[38;5;28;01mexcept\u001b[39;00m \u001b[38;5;167;01mInterruptedError\u001b[39;00m:\n\u001b[1;32m    417\u001b[0m     \u001b[38;5;28;01mreturn\u001b[39;00m ready\n",
      "\u001b[0;31mKeyboardInterrupt\u001b[0m: "
     ]
    }
   ],
   "source": [
    "male_real_images = []\n",
    "for batch in train_loader:\n",
    "    male_real_images.append(batch['image'])\n",
    "    print(len(male_real_images))"
   ]
  },
  {
   "cell_type": "code",
   "execution_count": null,
   "id": "18634c2d-7e1c-4c4f-99fa-eac2692a956b",
   "metadata": {},
   "outputs": [],
   "source": [
    "male_real_images_tensor = torch.stack(male_real_images)\n"
   ]
  },
  {
   "cell_type": "code",
   "execution_count": null,
   "id": "b64bfdd0-e0af-4237-ad51-3eb401c0e814",
   "metadata": {},
   "outputs": [],
   "source": [
    "male_syn_images = load_images_from_folder('../cjagad/LDM/2D/2D_SYN_DATA/LDM_MALE')"
   ]
  },
  {
   "cell_type": "code",
   "execution_count": null,
   "id": "dd1390ed-1f28-4a2f-bfca-f316ecbb777e",
   "metadata": {},
   "outputs": [],
   "source": [
    "male_syn_images = [torch.tensor(img) for img in male_syn_images]\n",
    "male_syn_images_tensor = torch.stack(male_syn_images)\n"
   ]
  },
  {
   "cell_type": "code",
   "execution_count": null,
   "id": "3f5b6bb3-62e4-4ea5-bd98-c641eff16cec",
   "metadata": {},
   "outputs": [],
   "source": [
    "len(male_syn_images)"
   ]
  },
  {
   "cell_type": "code",
   "execution_count": null,
   "id": "b06858f8-3c48-49f1-aaff-966b456ca7be",
   "metadata": {},
   "outputs": [],
   "source": [
    "ms_ssim_scores = []\n",
    "ssim_scores = []\n",
    "mmd_scores = []"
   ]
  },
  {
   "cell_type": "code",
   "execution_count": null,
   "id": "790cbdd0-0a9c-4cc3-a103-efd58b98b6a1",
   "metadata": {},
   "outputs": [],
   "source": [
    "with open('output_eval_metrics_real_syn_LDM 2D_male.txt', 'w') as f:\n",
    "    print(\"LDM 2D MALE - Diversity (Real vs Synthetic) MS-SSIM and MMD \\n\")\n",
    "    f.write(\"LDM 2D MALE - Diversity (Real vs Synthetic) MS-SSIM and MMD \\n\")\n",
    "    f.flush()\n",
    "    count_real = 1  \n",
    "    for idx_real in range(len(male_real_images_tensor)):\n",
    "        print(f'count_real: {count_real}\\n')\n",
    "        f.write(f'count_real: {count_real}\\n')\n",
    "        f.flush()\n",
    "        count_syn = 1 \n",
    "        for idx_synthetic in range(len(male_syn_images_tensor)):\n",
    "            print(f'count_syn: {count_syn}\\n')\n",
    "            f.write(f'count_syn: {count_syn}\\n')\n",
    "            f.flush()\n",
    "            \n",
    "            # ms_ssim_score = ms_ssim(male_syn_images_tensor[[idx_synthetic]].squeeze(0).unsqueeze(1), male_real_images_tensor[[idx_real]].squeeze(0).squeeze(1).unsqueeze(1))#OG\n",
    "            # Or alternatively, store the exact tensors we'll use and verify them:\n",
    "            syn = male_syn_images_tensor[[idx_synthetic]].squeeze().unsqueeze(0).unsqueeze(1)\n",
    "            real = male_real_images_tensor[[idx_real]].squeeze().unsqueeze(0).unsqueeze(1)\n",
    "            \n",
    "            # print(\"Synthetic shape:\", syn.shape)\n",
    "            # print(\"Real shape:\", real.shape)\n",
    "            # print(\"Synthetic tensor:\", syn)  # This will show the actual tensor values\n",
    "            # print(\"Real tensor:\", real)      # This will show the actual tensor values\n",
    "            \n",
    "            # Use these exact variables\n",
    "            ms_ssim_score = ms_ssim(syn, real)\n",
    "\n",
    "            \n",
    "            ssim_score = ssim(male_syn_images_tensor[[idx_synthetic]].squeeze().unsqueeze(0).unsqueeze(1), male_real_images_tensor[[idx_real]].squeeze().unsqueeze(0).unsqueeze(1))\n",
    "            mmd_score = mmd(male_syn_images_tensor[[idx_synthetic]].squeeze().unsqueeze(0).unsqueeze(1), male_real_images_tensor[[idx_real]].squeeze().unsqueeze(0).unsqueeze(1))\n",
    "\n",
    "            ms_ssim_scores.append(ms_ssim_score)\n",
    "            ssim_scores.append(ssim_score)\n",
    "            mmd_scores.append(mmd_score)\n",
    "            count_syn += 1\n",
    "        count_real += 1\n",
    "    \n",
    "    ms_ssim_scores_np = np.array(ms_ssim_scores)\n",
    "    ssim_scores_np = np.array(ssim_scores)\n",
    "    mmd_scores_np = np.array(mmd_scores)\n",
    "\n",
    "    # np.save('ms_ssim_scores_80ae_2000ldm_500images.npy', ms_ssim_scores_np)\n",
    "    # np.save('ssim_scores_80ae_2000ldm_500images.npy', ssim_scores_np)\n",
    "    # np.save('mmd_scores_80ae_2000ldm_500images.npy', mmd_scores_np)\n",
    "    \n",
    "    ms_ssim_scores = [tensor for tensor in ms_ssim_scores]\n",
    "    ssim_scores = [tensor for tensor in ssim_scores]\n",
    "    mmd_scores = [torch.tensor([[tensor]]) for tensor in mmd_scores]\n",
    "\n",
    "    ms_ssim_scores = torch.cat(ms_ssim_scores, dim=0)\n",
    "    ssim_scores = torch.cat(ssim_scores, dim=0)\n",
    "    mmd_scores = torch.cat(mmd_scores, dim=0)\n",
    "    \n",
    "    f.write(f'ms_ssim_scores: {ms_ssim_scores}\\n')\n",
    "    f.write(f'ssim_scores: {ssim_scores}\\n')\n",
    "    f.write(f'mmd_scores: {mmd_scores}\\n')\n",
    "    \n",
    "    print(f\"MS-SSIM Metric: {ms_ssim_scores.mean():.4f} +- {ms_ssim_scores.std():.4f}\")\n",
    "    print(f\"SSIM Metric: {ssim_scores.mean():.4f} +- {ssim_scores.std():.4f}\")\n",
    "    print(f\"MMD Metric: {mmd_scores.mean():.4f} +- {mmd_scores.std():.4f}\")\n",
    "    \n",
    "    f.write(f\"MS-SSIM Metric: {ms_ssim_scores.mean():.4f} +- {ms_ssim_scores.std():.4f}\\n\")\n",
    "    f.flush()\n",
    "    f.write(f\"SSIM Metric: {ssim_scores.mean():.4f} +- {ssim_scores.std():.4f}\\n\")\n",
    "    f.flush()\n",
    "    f.write(f\"MMD Metric: {mmd_scores.mean():.4f} +- {mmd_scores.std():.4f}\\n\")\n",
    "    f.flush()"
   ]
  },
  {
   "cell_type": "code",
   "execution_count": null,
   "id": "027d1ec2-7500-4aa2-a91b-097b33d3e38b",
   "metadata": {},
   "outputs": [],
   "source": [
    "ms_ssim_scores = np.load('ms_ssim_scores.npy', allow_pickle=True)"
   ]
  },
  {
   "cell_type": "code",
   "execution_count": null,
   "id": "aca6ae40-44f0-4054-a83f-5fa9056cd8f7",
   "metadata": {},
   "outputs": [],
   "source": [
    "mmd_scores = np.load('mmd_scores.npy', allow_pickle=True)"
   ]
  },
  {
   "cell_type": "code",
   "execution_count": null,
   "id": "4290299a-aa03-4e27-ade2-22922a4be6e5",
   "metadata": {},
   "outputs": [],
   "source": [
    "ssim_scores = np.load('ssim_scores.npy', allow_pickle=True)"
   ]
  },
  {
   "cell_type": "code",
   "execution_count": null,
   "id": "d4e7c17b-c29b-43d5-bd20-367c3484c6b9",
   "metadata": {},
   "outputs": [],
   "source": [
    "len(ms_ssim_scores)"
   ]
  },
  {
   "cell_type": "code",
   "execution_count": null,
   "id": "f6bf8c4c-a75b-4760-9fb0-8b1403dd88e8",
   "metadata": {},
   "outputs": [],
   "source": [
    "len(mmd_scores)"
   ]
  },
  {
   "cell_type": "code",
   "execution_count": null,
   "id": "c179dd27-c39d-4263-bf4b-9a8f80c367ef",
   "metadata": {},
   "outputs": [],
   "source": [
    "ssim_scores"
   ]
  },
  {
   "cell_type": "code",
   "execution_count": null,
   "id": "4e7f6f88-7be2-4ab6-af05-20946349d656",
   "metadata": {},
   "outputs": [],
   "source": [
    "ms_ssim_scores"
   ]
  },
  {
   "cell_type": "code",
   "execution_count": null,
   "id": "e2b6ef30-80f0-422e-8d50-c3cbb82dbae8",
   "metadata": {},
   "outputs": [],
   "source": [
    "mmd_scores"
   ]
  },
  {
   "cell_type": "code",
   "execution_count": null,
   "id": "a4538d11-5443-4b1d-915b-8ac5a99c15e3",
   "metadata": {},
   "outputs": [],
   "source": [
    "ms_ssim_scores = [tensor for tensor in ms_ssim_scores]\n",
    "ms_ssim_scores"
   ]
  },
  {
   "cell_type": "code",
   "execution_count": null,
   "id": "158317ce-6140-4331-a9d3-25c8abb8679c",
   "metadata": {},
   "outputs": [],
   "source": [
    "ms_ssim_scores = torch.cat(ms_ssim_scores, dim=0)"
   ]
  },
  {
   "cell_type": "code",
   "execution_count": null,
   "id": "14d4ac6f-d730-42db-8a50-c60660532883",
   "metadata": {},
   "outputs": [],
   "source": [
    "mmd_scores = [torch.tensor([[tensor]]) for tensor in mmd_scores]\n",
    "mmd_scores"
   ]
  },
  {
   "cell_type": "code",
   "execution_count": null,
   "id": "a58b1280-96bf-4a89-950e-cd4c1b534e22",
   "metadata": {},
   "outputs": [],
   "source": [
    "mmd_scores = torch.cat(mmd_scores, dim=0)\n",
    "mmd_scores"
   ]
  },
  {
   "cell_type": "code",
   "execution_count": null,
   "id": "5b2cd5d9-4f9c-40f8-9dd0-552f883bb910",
   "metadata": {},
   "outputs": [
    {
     "name": "stderr",
     "output_type": "stream",
     "text": [
      "IOStream.flush timed out\n"
     ]
    }
   ],
   "source": [
    "print(f\"MS-SSIM Metric: {ms_ssim_scores.mean():.4f} +- {ms_ssim_scores.std():.4f}\")\n",
    "print(f\"MMD Metric: {mmd_scores.mean():.4f} +- {mmd_scores.std():.4f}\")"
   ]
  },
  {
   "cell_type": "code",
   "execution_count": null,
   "id": "af299979-b8e8-489b-8c2c-6f121f3a459c",
   "metadata": {},
   "outputs": [],
   "source": []
  }
 ],
 "metadata": {
  "kernelspec": {
   "display_name": "Python 3 (ipykernel)",
   "language": "python",
   "name": "python3"
  },
  "language_info": {
   "codemirror_mode": {
    "name": "ipython",
    "version": 3
   },
   "file_extension": ".py",
   "mimetype": "text/x-python",
   "name": "python",
   "nbconvert_exporter": "python",
   "pygments_lexer": "ipython3",
   "version": "3.8.18"
  }
 },
 "nbformat": 4,
 "nbformat_minor": 5
}
