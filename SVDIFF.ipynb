{
 "cells": [
  {
   "cell_type": "code",
   "execution_count": 1,
   "id": "98c4f1db-87e5-4314-9d9b-db32ec5db54f",
   "metadata": {},
   "outputs": [],
   "source": [
    "import os\n",
    "\n",
    "os.environ[\"CUDA_DEVICE_ORDER\"]=\"PCI_BUS_ID\"\n",
    "os.environ[\"CUDA_VISIBLE_DEVICES\"]= \"6\""
   ]
  },
  {
   "cell_type": "code",
   "execution_count": 2,
   "id": "615c7d09-8adf-4911-a5b1-78d00e5d4060",
   "metadata": {},
   "outputs": [
    {
     "name": "stderr",
     "output_type": "stream",
     "text": [
      "2025-06-21 05:32:02.910488: E external/local_xla/xla/stream_executor/cuda/cuda_fft.cc:467] Unable to register cuFFT factory: Attempting to register factory for plugin cuFFT when one has already been registered\n",
      "WARNING: All log messages before absl::InitializeLog() is called are written to STDERR\n",
      "E0000 00:00:1750509122.938497   73245 cuda_dnn.cc:8579] Unable to register cuDNN factory: Attempting to register factory for plugin cuDNN when one has already been registered\n",
      "E0000 00:00:1750509122.946836   73245 cuda_blas.cc:1407] Unable to register cuBLAS factory: Attempting to register factory for plugin cuBLAS when one has already been registered\n",
      "W0000 00:00:1750509122.968122   73245 computation_placer.cc:177] computation placer already registered. Please check linkage and avoid linking the same target more than once.\n",
      "W0000 00:00:1750509122.968162   73245 computation_placer.cc:177] computation placer already registered. Please check linkage and avoid linking the same target more than once.\n",
      "W0000 00:00:1750509122.968165   73245 computation_placer.cc:177] computation placer already registered. Please check linkage and avoid linking the same target more than once.\n",
      "W0000 00:00:1750509122.968168   73245 computation_placer.cc:177] computation placer already registered. Please check linkage and avoid linking the same target more than once.\n",
      "2025-06-21 05:32:02.975912: I tensorflow/core/platform/cpu_feature_guard.cc:210] This TensorFlow binary is optimized to use available CPU instructions in performance-critical operations.\n",
      "To enable the following instructions: AVX2 AVX512F FMA, in other operations, rebuild TensorFlow with the appropriate compiler flags.\n"
     ]
    }
   ],
   "source": [
    "import tensorflow as tf"
   ]
  },
  {
   "cell_type": "code",
   "execution_count": 3,
   "id": "3428b32f-51a0-4577-9b64-0ec822c5969c",
   "metadata": {},
   "outputs": [
    {
     "name": "stdout",
     "output_type": "stream",
     "text": [
      "Num GPUs Available:  1\n"
     ]
    }
   ],
   "source": [
    "physical_devices = tf.config.list_physical_devices('GPU')\n",
    "print(\"Num GPUs Available: \", len(physical_devices))\n",
    "tf.config.experimental.set_memory_growth(physical_devices[0], True)"
   ]
  },
  {
   "cell_type": "markdown",
   "id": "64dfbe23-fe05-47db-936f-f33c222e07ab",
   "metadata": {},
   "source": [
    "## Libraries"
   ]
  },
  {
   "cell_type": "code",
   "execution_count": 6,
   "id": "a46916d0-04f0-454a-a63b-4cb75feae368",
   "metadata": {},
   "outputs": [
    {
     "name": "stdout",
     "output_type": "stream",
     "text": [
      "MONAI version: 1.4.0\n",
      "Numpy version: 1.26.4\n",
      "Pytorch version: 2.6.0+cu124\n",
      "MONAI flags: HAS_EXT = False, USE_COMPILED = False, USE_META_DICT = False\n",
      "MONAI rev id: 46a5272196a6c2590ca2589029eed8e4d56ff008\n",
      "MONAI __file__: /ifs/loni/faculty/thompson/four_d/dhruvkudalkar/envs/myenv/lib/python3.10/site-packages/monai/__init__.py\n",
      "\n",
      "Optional dependencies:\n",
      "Pytorch Ignite version: NOT INSTALLED or UNKNOWN VERSION.\n",
      "ITK version: 5.4.3\n",
      "Nibabel version: 5.3.2\n",
      "scikit-image version: 0.25.2\n",
      "scipy version: 1.15.2\n",
      "Pillow version: 11.2.1\n",
      "Tensorboard version: 2.19.0\n",
      "gdown version: 5.2.0\n",
      "TorchVision version: 0.21.0+cu124\n",
      "tqdm version: 4.67.1\n",
      "lmdb version: 1.6.2\n",
      "psutil version: 5.9.0\n",
      "pandas version: 2.2.3\n",
      "einops version: 0.8.1\n",
      "transformers version: 4.52.4\n",
      "mlflow version: NOT INSTALLED or UNKNOWN VERSION.\n",
      "pynrrd version: 1.1.3\n",
      "clearml version: NOT INSTALLED or UNKNOWN VERSION.\n",
      "\n",
      "For details about installing the optional dependencies, please visit:\n",
      "    https://docs.monai.io/en/latest/installation.html#installing-the-recommended-dependencies\n",
      "\n"
     ]
    }
   ],
   "source": [
    "import os\n",
    "import shutil # Copy, move, delete files and folders\n",
    "import tempfile \n",
    "\n",
    "import matplotlib.pyplot as plt\n",
    "import torch\n",
    "import torch.nn.functional as F # Pre-built math functions for neural networks\n",
    "from monai import transforms # Tools to resize, rotate, normalize medical images\n",
    "from monai.apps import DecathlonDataset\n",
    "from monai.config import print_config\n",
    "from monai.data import DataLoader # Feed data to your model in batches\n",
    "from monai.utils import first, set_determinism\n",
    "from torch.cuda.amp import GradScaler, autocast # Speed up training on GPU\n",
    "from torch.nn import L1Loss # A way to measure how wrong predictions are\n",
    "from tqdm import tqdm # Show progress bars during training\n",
    "\n",
    "from generative.inferers import LatentDiffusionInferer # The main tool that generates images\n",
    "from generative.losses import PatchAdversarialLoss, PerceptualLoss # Ways to measure image quality\n",
    "from generative.networks.nets import AutoencoderKL, DiffusionModelUNet, PatchDiscriminator # The AI models\n",
    "from generative.networks.schedulers import DDPMScheduler # Controls the noise-adding process\n",
    "\n",
    "print_config()"
   ]
  },
  {
   "cell_type": "code",
   "execution_count": 7,
   "id": "cd7f8ba2-7d38-45ad-b0db-48ed59015f70",
   "metadata": {},
   "outputs": [],
   "source": [
    "# for reproducibility purposes set a seed\n",
    "set_determinism(42)"
   ]
  },
  {
   "cell_type": "markdown",
   "id": "bb1e6796-01fe-4138-bb51-ed2e83f73107",
   "metadata": {},
   "source": [
    "## Setup a data directory and Prepare data loader for the training set"
   ]
  },
  {
   "cell_type": "code",
   "execution_count": 8,
   "id": "14a83d7c-eb31-428a-9f54-874aab90084d",
   "metadata": {},
   "outputs": [
    {
     "name": "stdout",
     "output_type": "stream",
     "text": [
      "Dataset contains 316 brain scans\n",
      "Sample file path: /ifs/loni/faculty/thompson/four_d/kozarkar/Diffusion/medicaldiffusion/data/CAMCAN/images/MALE/sub-CC721052_model-DTI_MD.nii.gz\n",
      "First sample: {'image': '/ifs/loni/faculty/thompson/four_d/kozarkar/Diffusion/medicaldiffusion/data/CAMCAN/images/MALE/sub-CC721052_model-DTI_MD.nii.gz', 'sex': 0}\n"
     ]
    }
   ],
   "source": [
    "import pandas as pd\n",
    "from monai.data import Dataset, DataLoader\n",
    "# Load your CSV dataset\n",
    "dataset_path = \"/ifs/loni/faculty/thompson/four_d/vdesai/PEFT/male_dataset.csv\"\n",
    "df = pd.read_csv(dataset_path)\n",
    "print(f\"Dataset contains {len(df)} brain scans\")\n",
    "print(f\"Sample file path: {df['Location'].iloc[0]}\")\n",
    "\n",
    "# Each dictionary should have \"image\" key pointing to file path\n",
    "data_dicts = []\n",
    "for idx, row in df.iterrows():\n",
    "    data_dicts.append({\n",
    "        \"image\": row[\"Location\"],  # File path from CSV\n",
    "        \"sex\": row[\"Sex\"]          # Sex information (if needed later)\n",
    "    })\n",
    "    \n",
    "print(f\"First sample: {data_dicts[0]}\")"
   ]
  },
  {
   "cell_type": "code",
   "execution_count": 9,
   "id": "b0fa04ed-6334-4b0d-9cdd-0b8e0256e0a1",
   "metadata": {},
   "outputs": [],
   "source": [
    "# Training parameters\n",
    "batch_size = 2  # Process 2 brain scans simultaneously\n",
    "train_transforms = transforms.Compose(\n",
    "    [\n",
    "        transforms.LoadImaged(keys=[\"image\"]),                    # Load the image file from disk\n",
    "        transforms.EnsureChannelFirstd(keys=[\"image\"]),           # Make sure image format is correct\n",
    "        transforms.EnsureTyped(keys=[\"image\"]),                   # Make sure it's the right data type\n",
    "        transforms.Orientationd(keys=[\"image\"], axcodes=\"RAS\"),   # Rotate image to standard orientation\n",
    "        transforms.Spacingd(keys=[\"image\"], pixdim=(2.4, 2.4, 2.2), mode=(\"bilinear\")),  # Resize pixels to standard size\n",
    "        transforms.Resized(keys=[\"image\"], spatial_size=(96, 96, 64), mode=\"trilinear\"), # Match your DTI image dimensions,  # Cut out center 96x96x64 piece\n",
    "        transforms.ScaleIntensityRangePercentilesd(keys=\"image\", lower=0, upper=99.5, b_min=0, b_max=1),  # Normalize brightness (0 to 1)\n",
    "    ]\n",
    ")\n",
    "\n",
    "train_ds = Dataset(\n",
    "    data=data_dicts,           # Your list of data dictionaries\n",
    "    transform=train_transforms  # Apply the transforms\n",
    ")\n",
    "\n",
    "# Create DataLoader\n",
    "train_loader = DataLoader(\n",
    "    train_ds, \n",
    "    batch_size=batch_size, \n",
    "    shuffle=True, \n",
    "    num_workers=8,        # Reduced from 8 - adjust based on your system\n",
    "    persistent_workers=True\n",
    ")"
   ]
  },
  {
   "cell_type": "code",
   "execution_count": 10,
   "id": "afcecdf7-ae41-458f-b4ee-90ba2d3159a1",
   "metadata": {},
   "outputs": [
    {
     "name": "stdout",
     "output_type": "stream",
     "text": [
      "Image shape: torch.Size([1, 96, 96, 64])\n",
      "Data type: torch.float32\n"
     ]
    }
   ],
   "source": [
    "print(f'Image shape: {train_ds[0][\"image\"].shape}')\n",
    "print(f'Data type: {train_ds[0][\"image\"].dtype}')"
   ]
  },
  {
   "cell_type": "markdown",
   "id": "e36d0db5-941e-4491-a83f-730055d877de",
   "metadata": {},
   "source": [
    "## Visualise examples from the training set"
   ]
  },
  {
   "cell_type": "code",
   "execution_count": 11,
   "id": "0ecbd5c1-6ba9-464e-8f88-384eaac8308b",
   "metadata": {},
   "outputs": [
    {
     "data": {
      "text/plain": [
       "<matplotlib.image.AxesImage at 0x7f30e8f106a0>"
      ]
     },
     "execution_count": 11,
     "metadata": {},
     "output_type": "execute_result"
    },
    {
     "data": {
      "image/png": "[encoded data removed]",
      "text/plain": [
       "<Figure size 640x480 with 3 Axes>"
      ]
     },
     "metadata": {},
     "output_type": "display_data"
    }
   ],
   "source": [
    "# Plot axial, coronal and sagittal slices of a training sample\n",
    "check_data = first(train_loader)\n",
    "idx = 0\n",
    "\n",
    "img = check_data[\"image\"][idx, 0]\n",
    "fig, axs = plt.subplots(nrows=1, ncols=3)\n",
    "for ax in axs:\n",
    "    ax.axis(\"off\")\n",
    "ax = axs[0]\n",
    "ax.imshow(img[..., img.shape[2] // 2], cmap=\"gray\")\n",
    "ax = axs[1]\n",
    "ax.imshow(img[:, img.shape[1] // 2, ...], cmap=\"gray\")\n",
    "ax = axs[2]\n",
    "ax.imshow(img[img.shape[0] // 2, ...], cmap=\"gray\")\n",
    "# plt.savefig(\"training_examples.png\")"
   ]
  },
  {
   "cell_type": "markdown",
   "id": "7f7f47bc-48c8-4e84-86b2-d3d3a3358789",
   "metadata": {},
   "source": [
    "## Autoencoder KL"
   ]
  },
  {
   "cell_type": "markdown",
   "id": "1fcc51f5-0449-4960-be31-be3f738ea388",
   "metadata": {},
   "source": [
    "In this section, we will define an autoencoder with KL-regularization for the LDM. The autoencoder's primary purpose is to transform input images into a latent representation that the diffusion model will subsequently learn. By doing so, we can decrease the computational resources required to train the diffusion component, making this approach suitable for learning high-resolution medical images."
   ]
  },
  {
   "cell_type": "markdown",
   "id": "ec199c10-a578-4aac-a894-655018bcc471",
   "metadata": {},
   "source": [
    "Without KL: Codes are chaotic → can't generate new images\n",
    "With KL: Codes are organized → can generate infinite new brain scans"
   ]
  },
  {
   "cell_type": "code",
   "execution_count": 12,
   "id": "9b63e8d0-c2ed-4bfe-bd47-6777cc447779",
   "metadata": {},
   "outputs": [
    {
     "name": "stdout",
     "output_type": "stream",
     "text": [
      "Using cuda\n"
     ]
    }
   ],
   "source": [
    "device = torch.device(\"cuda\" if torch.cuda.is_available() else \"cpu\")\n",
    "print(f\"Using {device}\")"
   ]
  },
  {
   "cell_type": "code",
   "execution_count": 13,
   "id": "c73e3fde-90ef-4209-acf2-55aeef802827",
   "metadata": {},
   "outputs": [
    {
     "data": {
      "text/plain": [
       "PatchDiscriminator(\n",
       "  (initial_conv): Convolution(\n",
       "    (conv): Conv3d(1, 32, kernel_size=(4, 4, 4), stride=(2, 2, 2), padding=(1, 1, 1))\n",
       "    (adn): ADN(\n",
       "      (D): Dropout(p=0.0, inplace=False)\n",
       "      (A): LeakyReLU(negative_slope=0.2)\n",
       "    )\n",
       "  )\n",
       "  (0): Convolution(\n",
       "    (conv): Conv3d(32, 64, kernel_size=(4, 4, 4), stride=(2, 2, 2), padding=(1, 1, 1), bias=False)\n",
       "    (adn): ADN(\n",
       "      (N): BatchNorm3d(64, eps=1e-05, momentum=0.1, affine=True, track_running_stats=True)\n",
       "      (D): Dropout(p=0.0, inplace=False)\n",
       "      (A): LeakyReLU(negative_slope=0.2)\n",
       "    )\n",
       "  )\n",
       "  (1): Convolution(\n",
       "    (conv): Conv3d(64, 128, kernel_size=(4, 4, 4), stride=(2, 2, 2), padding=(1, 1, 1), bias=False)\n",
       "    (adn): ADN(\n",
       "      (N): BatchNorm3d(128, eps=1e-05, momentum=0.1, affine=True, track_running_stats=True)\n",
       "      (D): Dropout(p=0.0, inplace=False)\n",
       "      (A): LeakyReLU(negative_slope=0.2)\n",
       "    )\n",
       "  )\n",
       "  (2): Convolution(\n",
       "    (conv): Conv3d(128, 256, kernel_size=(4, 4, 4), stride=(1, 1, 1), padding=(1, 1, 1), bias=False)\n",
       "    (adn): ADN(\n",
       "      (N): BatchNorm3d(256, eps=1e-05, momentum=0.1, affine=True, track_running_stats=True)\n",
       "      (D): Dropout(p=0.0, inplace=False)\n",
       "      (A): LeakyReLU(negative_slope=0.2)\n",
       "    )\n",
       "  )\n",
       "  (final_conv): Convolution(\n",
       "    (conv): Conv3d(256, 1, kernel_size=(4, 4, 4), stride=(1, 1, 1), padding=(1, 1, 1))\n",
       "  )\n",
       ")"
      ]
     },
     "execution_count": 13,
     "metadata": {},
     "output_type": "execute_result"
    }
   ],
   "source": [
    "autoencoder = AutoencoderKL(\n",
    "    spatial_dims=3, # Working with 3D volumes \n",
    "    in_channels=1, # Input: 1 channel (grayscale brain scan)\n",
    "    out_channels=1, # Output: 1 channel (reconstructed grayscale brain scan)\n",
    "    num_channels=(32, 64, 64), # Network gets wider as it goes deeper: 32→64→64 filters\n",
    "    latent_channels=3, # Compress to 3-channel latent code (much smaller than original)\n",
    "    num_res_blocks=1, # Use 1 residual block per level (helps with training)\n",
    "    # Add a \"shortcut\" that carries the original input directly to the output, then combine it with what the layers learned.\n",
    "    norm_num_groups=16, # Normalization setting (helps training stability)\n",
    "    attention_levels=(False, False, True), # Only use attention at the deepest level\n",
    ")\n",
    "autoencoder.to(device)\n",
    "\n",
    "discriminator = PatchDiscriminator(spatial_dims=3, num_layers_d=3, num_channels=32, in_channels=1, out_channels=1)\n",
    "discriminator.to(device)"
   ]
  },
  {
   "cell_type": "markdown",
   "id": "f327a946-72df-4baa-8b5b-f365ffbcc1e1",
   "metadata": {},
   "source": [
    "## Defining Losses"
   ]
  },
  {
   "cell_type": "markdown",
   "id": "2defb3c4-6c7c-488a-aaf5-b4a1945cf5e5",
   "metadata": {},
   "source": [
    "In training:\n",
    "\n",
    "L1 loss (strongest): \"Make it look exactly right!\"\n",
    "Adversarial (medium): \"Make it look realistic!\"\n",
    "Perceptual (weak): \"Keep the important medical features!\"\n",
    "KL (very weak): \"Keep the latent space organized for generation!\"\n",
    "\n",
    "Real-world analogy:\n",
    "Think of training a medical illustrator:\n",
    "\n",
    "L1: Copy every single line perfectly\n",
    "Adversarial: Make it look like a real medical scan\n",
    "Perceptual: Don't lose the important medical details\n",
    "KL: Keep your drawing style consistent for future work"
   ]
  },
  {
   "cell_type": "code",
   "execution_count": 14,
   "id": "e8ffc8a1-d5ae-4632-adfa-b20ae98d185b",
   "metadata": {},
   "outputs": [
    {
     "name": "stderr",
     "output_type": "stream",
     "text": [
      "The parameter 'pretrained' is deprecated since 0.13 and may be removed in the future, please use 'weights' instead.\n",
      "Arguments other than a weight enum or `None` for 'weights' are deprecated since 0.13 and may be removed in the future. The current behavior is equivalent to passing `weights=SqueezeNet1_1_Weights.IMAGENET1K_V1`. You can also use `weights=SqueezeNet1_1_Weights.DEFAULT` to get the most up-to-date weights.\n"
     ]
    }
   ],
   "source": [
    "# Simple example: If original pixel = 0.8, reconstructed = 0.6, loss = |0.8 - 0.6| = 0.2\n",
    "# Goal: Make reconstructed image look exactly like original, pixel by pixel\n",
    "l1_loss = L1Loss()\n",
    "# What it does: Encourages autoencoder to fool the discriminator\n",
    "# Goal: Make fake images so good that discriminator thinks they're real\n",
    "adv_loss = PatchAdversarialLoss(criterion=\"least_squares\")\n",
    "# What it does: Compares \"what the image looks like\" rather than individual pixels\n",
    "# Example: Both images show a brain tumor, even if pixels are slightly different\n",
    "# Goal: Preserve important medical features (tumors, anatomy) rather than just copying pixels\n",
    "loss_perceptual = PerceptualLoss(spatial_dims=3, network_type=\"squeeze\", is_fake_3d=True, fake_3d_ratio=0.2)\n",
    "loss_perceptual.to(device)\n",
    "\n",
    "# What it does: Forces the compressed codes to follow a nice, organized pattern\n",
    "# Goal: Make sure you can generate new brain scans later by sampling random codes\n",
    "def KL_loss(z_mu, z_sigma):\n",
    "    kl_loss = 0.5 * torch.sum(z_mu.pow(2) + z_sigma.pow(2) - torch.log(z_sigma.pow(2)) - 1, dim=[1, 2, 3, 4])\n",
    "    return torch.sum(kl_loss) / kl_loss.shape[0]\n",
    "\n",
    "\n",
    "adv_weight = 0.01 # Adversarial loss: 1% importance\n",
    "perceptual_weight = 0.001 # Perceptual loss: 0.1% importance  \n",
    "kl_weight = 1e-6 # KL loss: 0.0001% importance"
   ]
  },
  {
   "cell_type": "code",
   "execution_count": 15,
   "id": "37e2bfb8-b843-4aa0-ae39-ef70f3794c96",
   "metadata": {},
   "outputs": [],
   "source": [
    "optimizer_g = torch.optim.Adam(params=autoencoder.parameters(), lr=1e-4)\n",
    "optimizer_d = torch.optim.Adam(params=discriminator.parameters(), lr=1e-4)"
   ]
  },
  {
   "cell_type": "markdown",
   "id": "7d8481c8-487c-400e-9b94-53a534aeb6b7",
   "metadata": {},
   "source": [
    "## Train model"
   ]
  },
  {
   "cell_type": "code",
   "execution_count": 16,
   "id": "3a65da92-4fc0-4cd8-8b3b-9d1cd124ca58",
   "metadata": {},
   "outputs": [
    {
     "name": "stdout",
     "output_type": "stream",
     "text": [
      "Loading checkpoint from latest_checkpoint.pth\n",
      "Resuming training from epoch 100\n",
      "Training completed!\n"
     ]
    }
   ],
   "source": [
    "# Training parameters\n",
    "n_epochs = 100 # Train for 100 complete passes through all the data\n",
    "autoencoder_warm_up_n_epochs = 5 # For the first 5 epochs, only train the autoencoder (no discriminator competition yet)\n",
    "val_interval = 10 # Test the model every 10 epochs\n",
    "checkpoint_file = \"latest_checkpoint.pth\"  # Checkpoint filename\n",
    "\n",
    "# Initialize lists\n",
    "epoch_recon_loss_list = [] # Empty list to store reconstruction loss for each epoch\n",
    "epoch_gen_loss_list = [] # Empty list to store generator loss for each epoch\n",
    "epoch_disc_loss_list = [] # Empty list to store discriminator loss for each epoch\n",
    "val_recon_epoch_loss_list = [] # Empty list to store validation reconstruction losses\n",
    "intermediary_images = [] # Empty list to store example images during training\n",
    "n_example_images = 4\n",
    "\n",
    "# Starting epoch\n",
    "start_epoch = 0\n",
    "\n",
    "# Load checkpoint if it exists\n",
    "if os.path.exists(checkpoint_file):\n",
    "    print(f\"Loading checkpoint from {checkpoint_file}\")\n",
    "    checkpoint = torch.load(checkpoint_file, map_location=device)\n",
    "    \n",
    "    # Load model states\n",
    "    autoencoder.load_state_dict(checkpoint['autoencoder_state_dict'])\n",
    "    discriminator.load_state_dict(checkpoint['discriminator_state_dict'])\n",
    "    \n",
    "    # Load optimizer states\n",
    "    optimizer_g.load_state_dict(checkpoint['optimizer_g_state_dict'])\n",
    "    optimizer_d.load_state_dict(checkpoint['optimizer_d_state_dict'])\n",
    "    \n",
    "    # Load training progress\n",
    "    start_epoch = checkpoint['epoch'] + 1  # Start from next epoch\n",
    "    epoch_recon_loss_list = checkpoint['epoch_recon_loss_list']\n",
    "    epoch_gen_loss_list = checkpoint['epoch_gen_loss_list']\n",
    "    epoch_disc_loss_list = checkpoint['epoch_disc_loss_list']\n",
    "    val_recon_epoch_loss_list = checkpoint.get('val_recon_epoch_loss_list', [])\n",
    "    intermediary_images = checkpoint.get('intermediary_images', [])\n",
    "    \n",
    "    print(f\"Resuming training from epoch {start_epoch}\")\n",
    "else:\n",
    "    print(\"No checkpoint found. Starting training from scratch.\")\n",
    "\n",
    "# Training loop\n",
    "for epoch in range(start_epoch, n_epochs):\n",
    "    autoencoder.train()\n",
    "    discriminator.train()\n",
    "    epoch_loss = 0\n",
    "    gen_epoch_loss = 0\n",
    "    disc_epoch_loss = 0\n",
    "    progress_bar = tqdm(enumerate(train_loader), total=len(train_loader), ncols=110)\n",
    "    progress_bar.set_description(f\"Epoch {epoch}\")\n",
    "    \n",
    "    for step, batch in progress_bar:\n",
    "        images = batch[\"image\"].to(device)  # Move current batch of brain scans from CPU to GPU\n",
    "        # Generator part\n",
    "        optimizer_g.zero_grad(set_to_none=True) # Clear any leftover gradients from previous batch (generator optimizer)\n",
    "        reconstruction, z_mu, z_sigma = autoencoder(images) # Pass brain scans through autoencoder, get back: reconstructed images + latent statistics\n",
    "        kl_loss = KL_loss(z_mu, z_sigma) # Calculate KL loss to keep latent space organized\n",
    "        recons_loss = l1_loss(reconstruction.float(), images.float()) # Calculate how different reconstruction is from original (pixel-by-pixel)\n",
    "        p_loss = loss_perceptual(reconstruction.float(), images.float()) # Calculate perceptual loss (high-level feature differences)\n",
    "        loss_g = recons_loss + kl_weight * kl_loss + perceptual_weight * p_loss # Combine all losses with their weights to get total generator loss\n",
    "        if epoch > autoencoder_warm_up_n_epochs:\n",
    "            logits_fake = discriminator(reconstruction.contiguous().float())[-1] # Ask discriminator: \"How fake does this reconstruction look?\" (get last layer output)\n",
    "            generator_loss = adv_loss(logits_fake, target_is_real=True, for_discriminator=False) # Calculate loss to make generator fool discriminator (\"pretend this is real!\")\n",
    "            loss_g += adv_weight * generator_loss # Add weighted adversarial loss to total generator loss\n",
    "        loss_g.backward()\n",
    "        optimizer_g.step()\n",
    "        if epoch > autoencoder_warm_up_n_epochs:\n",
    "            # Discriminator part\n",
    "            optimizer_d.zero_grad(set_to_none=True)\n",
    "            logits_fake = discriminator(reconstruction.contiguous().detach())[-1]\n",
    "            loss_d_fake = adv_loss(logits_fake, target_is_real=False, for_discriminator=True)\n",
    "            logits_real = discriminator(images.contiguous().detach())[-1]\n",
    "            loss_d_real = adv_loss(logits_real, target_is_real=True, for_discriminator=True)\n",
    "            discriminator_loss = (loss_d_fake + loss_d_real) * 0.5\n",
    "            loss_d = adv_weight * discriminator_loss\n",
    "            loss_d.backward()\n",
    "            optimizer_d.step()\n",
    "        epoch_loss += recons_loss.item()\n",
    "        if epoch > autoencoder_warm_up_n_epochs:\n",
    "            gen_epoch_loss += generator_loss.item()\n",
    "            disc_epoch_loss += discriminator_loss.item()\n",
    "        progress_bar.set_postfix(\n",
    "            {\n",
    "                \"recons_loss\": epoch_loss / (step + 1),\n",
    "                \"gen_loss\": gen_epoch_loss / (step + 1),\n",
    "                \"disc_loss\": disc_epoch_loss / (step + 1),\n",
    "            }\n",
    "        )\n",
    "    \n",
    "    # Save losses for this epoch\n",
    "    epoch_recon_loss_list.append(epoch_loss / (step + 1))\n",
    "    epoch_gen_loss_list.append(gen_epoch_loss / (step + 1))\n",
    "    epoch_disc_loss_list.append(disc_epoch_loss / (step + 1))\n",
    "    \n",
    "    # Save checkpoint every epoch\n",
    "    checkpoint = {\n",
    "        'epoch': epoch,\n",
    "        'autoencoder_state_dict': autoencoder.state_dict(),\n",
    "        'discriminator_state_dict': discriminator.state_dict(),\n",
    "        'optimizer_g_state_dict': optimizer_g.state_dict(),\n",
    "        'optimizer_d_state_dict': optimizer_d.state_dict(),\n",
    "        'epoch_recon_loss_list': epoch_recon_loss_list,\n",
    "        'epoch_gen_loss_list': epoch_gen_loss_list,\n",
    "        'epoch_disc_loss_list': epoch_disc_loss_list,\n",
    "        'val_recon_epoch_loss_list': val_recon_epoch_loss_list,\n",
    "        'intermediary_images': intermediary_images,\n",
    "    }\n",
    "    torch.save(checkpoint, checkpoint_file)\n",
    "    \n",
    "    # Print progress every 10 epochs\n",
    "    if (epoch + 1) % 10 == 0:\n",
    "        print(f\"Epoch {epoch + 1}/{n_epochs} - Checkpoint saved!\")\n",
    "\n",
    "print(\"Training completed!\")\n",
    "\n",
    "# Clean up\n",
    "del discriminator\n",
    "del loss_perceptual\n",
    "torch.cuda.empty_cache()\n",
    "\n",
    "# Optional: Remove checkpoint file after successful completion\n",
    "# os.remove(checkpoint_file)  # Uncomment if you want to delete checkpoint after training"
   ]
  },
  {
   "cell_type": "code",
   "execution_count": 17,
   "id": "58998b06-6c3c-4fe0-95c6-01e74b1adfeb",
   "metadata": {},
   "outputs": [
    {
     "name": "stderr",
     "output_type": "stream",
     "text": [
      "No artists with labels found to put in legend.  Note that artists whose label start with an underscore are ignored when legend() is called with no argument.\n"
     ]
    },
    {
     "data": {
      "image/png": "[encoded data removed]",
      "text/plain": [
       "<Figure size 640x480 with 1 Axes>"
      ]
     },
     "metadata": {},
     "output_type": "display_data"
    }
   ],
   "source": [
    "plt.style.use(\"ggplot\")\n",
    "plt.title(\"Learning Curves\", fontsize=20)\n",
    "plt.plot(epoch_recon_loss_list)\n",
    "plt.yticks(fontsize=12)\n",
    "plt.xticks(fontsize=12)\n",
    "plt.xlabel(\"Epochs\", fontsize=16)\n",
    "plt.ylabel(\"Loss\", fontsize=16)\n",
    "plt.legend(prop={\"size\": 14})\n",
    "plt.show()"
   ]
  },
  {
   "cell_type": "code",
   "execution_count": 18,
   "id": "55d48ca6-7d0d-4cea-98a0-016cfd71c4dc",
   "metadata": {},
   "outputs": [
    {
     "data": {
      "image/png": "[encoded data removed]",
      "text/plain": [
       "<Figure size 640x480 with 1 Axes>"
      ]
     },
     "metadata": {},
     "output_type": "display_data"
    }
   ],
   "source": [
    "plt.title(\"Adversarial Training Curves\", fontsize=20)\n",
    "plt.plot(epoch_gen_loss_list, color=\"C0\", linewidth=2.0, label=\"Generator\")\n",
    "plt.plot(epoch_disc_loss_list, color=\"C1\", linewidth=2.0, label=\"Discriminator\")\n",
    "plt.yticks(fontsize=12)\n",
    "plt.xticks(fontsize=12)\n",
    "plt.xlabel(\"Epochs\", fontsize=16)\n",
    "plt.ylabel(\"Loss\", fontsize=16)\n",
    "plt.legend(prop={\"size\": 14})\n",
    "plt.show()"
   ]
  },
  {
   "cell_type": "code",
   "execution_count": 19,
   "id": "d9079144-46f7-4aec-8487-1324505ef8f4",
   "metadata": {},
   "outputs": [
    {
     "data": {
      "image/png": "[encoded data removed]",
      "text/plain": [
       "<Figure size 1200x400 with 3 Axes>"
      ]
     },
     "metadata": {},
     "output_type": "display_data"
    }
   ],
   "source": [
    "# Get a fresh reconstruction from your trained autoencoder\n",
    "autoencoder.eval()\n",
    "with torch.no_grad():\n",
    "    sample_batch = next(iter(train_loader))\n",
    "    images = sample_batch[\"image\"].to(device)\n",
    "    reconstruction, z_mu, z_sigma = autoencoder(images)\n",
    "\n",
    "# Plot axial, coronal and sagittal slices of a training sample\n",
    "idx = 0\n",
    "img = reconstruction[idx, 0].detach().cpu().numpy()  # [0] for first channel since single-channel\n",
    "fig, axs = plt.subplots(nrows=1, ncols=3, figsize=(12, 4))\n",
    "for ax in axs:\n",
    "    ax.axis(\"off\")\n",
    "\n",
    "# Axial slice\n",
    "ax = axs[0]\n",
    "ax.imshow(img[..., img.shape[2] // 2], cmap=\"gray\")\n",
    "ax.set_title(\"Axial\")\n",
    "\n",
    "# Coronal slice  \n",
    "ax = axs[1]\n",
    "ax.imshow(img[:, img.shape[1] // 2, ...], cmap=\"gray\")\n",
    "ax.set_title(\"Coronal\")\n",
    "\n",
    "# Sagittal slice\n",
    "ax = axs[2]\n",
    "ax.imshow(img[img.shape[0] // 2, ...], cmap=\"gray\")\n",
    "ax.set_title(\"Sagittal\")\n",
    "\n",
    "plt.tight_layout()\n",
    "plt.show()"
   ]
  },
  {
   "cell_type": "markdown",
   "id": "0a2cbbc1-2635-4aba-b7c6-537d67efd641",
   "metadata": {},
   "source": [
    "## Diffusion Model"
   ]
  },
  {
   "cell_type": "markdown",
   "id": "c7eb876c-07e9-4ecb-8c38-88fddd7f423d",
   "metadata": {},
   "source": [
    "### Define diffusion model and scheduler"
   ]
  },
  {
   "cell_type": "markdown",
   "id": "c8d8d06e-b8d4-49dd-a997-043c6b93cfdb",
   "metadata": {},
   "source": [
    "In this section, we will define the diffusion model that will learn data distribution of the latent representation of the autoencoder. Together with the diffusion model, we define a beta scheduler responsible for defining the amount of noise that is added across the diffusion's model Markov chain."
   ]
  },
  {
   "cell_type": "markdown",
   "id": "1288cbd9-204d-4a93-9f9a-4f1feda602e4",
   "metadata": {},
   "source": [
    "Beta scheduler is like a \"noise recipe\" that controls how to gradually transform clean brain scans into noise (and back again) in a way that the AI can learn!"
   ]
  },
  {
   "cell_type": "markdown",
   "id": "a0bcae7b-3d27-4e04-accf-0ed1da0eb7cf",
   "metadata": {},
   "source": [
    "Visual Rule:\n",
    "\n",
    "SAFE: Anything with \"middle\" in the name\n",
    "DANGEROUS: Anything with \"down_blocks\" or \"up_blocks\"\n",
    "MAYBE SAFE: Input/output layers (conv_in, out)\n",
    "\n",
    "Bottom line: When in doubt, stick to middle_block - it's the bottleneck of the U-Net and never has skip connections!"
   ]
  },
  {
   "cell_type": "code",
   "execution_count": 30,
   "id": "b52c846d-8253-4240-813e-809de7f0cef2",
   "metadata": {},
   "outputs": [],
   "source": [
    "import torch\n",
    "import torch.nn as nn\n",
    "import torch.nn.functional as F\n",
    "from torch.cuda.amp import GradScaler, autocast\n",
    "from tqdm import tqdm\n",
    "from monai.utils import first\n",
    "import os\n",
    "\n",
    "# SVDiff implementation\n",
    "class SVDConv2d(nn.Module):\n",
    "    \"\"\"Conv2d layer with SVD decomposition for fine-tuning only singular values\"\"\"\n",
    "    def __init__(self, conv_layer, learning_rate_scale=1000):\n",
    "        super().__init__()\n",
    "        self.in_channels = conv_layer.in_channels\n",
    "        self.out_channels = conv_layer.out_channels\n",
    "        self.kernel_size = conv_layer.kernel_size\n",
    "        self.stride = conv_layer.stride\n",
    "        self.padding = conv_layer.padding\n",
    "        self.dilation = conv_layer.dilation\n",
    "        self.groups = conv_layer.groups\n",
    "        \n",
    "        # Get the weight tensor and reshape for SVD\n",
    "        weight = conv_layer.weight.data  # Shape: [out_channels, in_channels, H, W]\n",
    "        self.weight_shape = weight.shape\n",
    "        \n",
    "        # Reshape to 2D for SVD: [out_channels, in_channels * H * W]\n",
    "        weight_2d = weight.reshape(self.out_channels, -1)\n",
    "        \n",
    "        # Perform SVD (this is done once and cached)\n",
    "        U, sigma, Vt = torch.linalg.svd(weight_2d, full_matrices=False)\n",
    "        \n",
    "        # Store U and V^T as non-trainable\n",
    "        self.register_buffer('U', U)\n",
    "        self.register_buffer('Vt', Vt)\n",
    "        self.register_buffer('sigma_orig', sigma)\n",
    "        \n",
    "        # Initialize spectral shift δ as trainable parameter\n",
    "        self.delta = nn.Parameter(torch.zeros_like(sigma))\n",
    "        \n",
    "        # Store bias if exists\n",
    "        if conv_layer.bias is not None:\n",
    "            self.bias = nn.Parameter(conv_layer.bias.data.clone())\n",
    "        else:\n",
    "            self.register_parameter('bias', None)\n",
    "            \n",
    "        # Learning rate scale for spectral shifts\n",
    "        self.lr_scale = learning_rate_scale\n",
    "        \n",
    "    def forward(self, x):\n",
    "        # Reconstruct weight: W = U @ diag(ReLU(σ + δ)) @ V^T\n",
    "        sigma_new = F.relu(self.sigma_orig + self.delta)\n",
    "        weight_2d = self.U @ torch.diag(sigma_new) @ self.Vt\n",
    "        \n",
    "        # Reshape back to conv weight shape\n",
    "        weight = weight_2d.reshape(self.weight_shape)\n",
    "        \n",
    "        # Perform convolution\n",
    "        return F.conv2d(x, weight, self.bias, self.stride, self.padding, \n",
    "                       self.dilation, self.groups)\n",
    "\n",
    "class SVDConv3d(nn.Module):\n",
    "    \"\"\"Conv3d layer with SVD decomposition\"\"\"\n",
    "    def __init__(self, conv_layer, learning_rate_scale=1000):\n",
    "        super().__init__()\n",
    "        # Store conv parameters\n",
    "        self.in_channels = conv_layer.in_channels\n",
    "        self.out_channels = conv_layer.out_channels\n",
    "        self.kernel_size = conv_layer.kernel_size\n",
    "        self.stride = conv_layer.stride\n",
    "        self.padding = conv_layer.padding\n",
    "        self.dilation = conv_layer.dilation\n",
    "        self.groups = conv_layer.groups\n",
    "        \n",
    "        # Get weight and reshape for SVD\n",
    "        weight = conv_layer.weight.data  # [out, in, D, H, W]\n",
    "        self.weight_shape = weight.shape\n",
    "        \n",
    "        # Reshape to 2D: [out_channels, in_channels * D * H * W]\n",
    "        weight_2d = weight.reshape(self.out_channels, -1)\n",
    "        \n",
    "        # SVD\n",
    "        U, sigma, Vt = torch.linalg.svd(weight_2d, full_matrices=False)\n",
    "        \n",
    "        # Store as buffers\n",
    "        self.register_buffer('U', U)\n",
    "        self.register_buffer('Vt', Vt)\n",
    "        self.register_buffer('sigma_orig', sigma)\n",
    "        \n",
    "        # Trainable spectral shift\n",
    "        self.delta = nn.Parameter(torch.zeros_like(sigma))\n",
    "        \n",
    "        # Bias\n",
    "        if conv_layer.bias is not None:\n",
    "            self.bias = nn.Parameter(conv_layer.bias.data.clone())\n",
    "        else:\n",
    "            self.register_parameter('bias', None)\n",
    "            \n",
    "    def forward(self, x):\n",
    "        sigma_new = F.relu(self.sigma_orig + self.delta)\n",
    "        weight_2d = self.U @ torch.diag(sigma_new) @ self.Vt\n",
    "        weight = weight_2d.reshape(self.weight_shape)\n",
    "        return F.conv3d(x, weight, self.bias, self.stride, self.padding, self.dilation, self.groups)"
   ]
  },
  {
   "cell_type": "code",
   "execution_count": 31,
   "id": "dd936510-5714-4d07-8194-0f74c4b0588a",
   "metadata": {},
   "outputs": [],
   "source": [
    "class SVDLinear(nn.Module):\n",
    "    \"\"\"Linear layer with SVD decomposition\"\"\"\n",
    "    def __init__(self, linear_layer, learning_rate_scale=1000):\n",
    "        super().__init__()\n",
    "        self.in_features = linear_layer.in_features\n",
    "        self.out_features = linear_layer.out_features\n",
    "        \n",
    "        # Perform SVD on weight matrix\n",
    "        weight = linear_layer.weight.data\n",
    "        U, sigma, Vt = torch.linalg.svd(weight, full_matrices=False)\n",
    "        \n",
    "        # Store as buffers (non-trainable)\n",
    "        self.register_buffer('U', U)\n",
    "        self.register_buffer('Vt', Vt)\n",
    "        self.register_buffer('sigma_orig', sigma)\n",
    "        \n",
    "        # Trainable spectral shift\n",
    "        self.delta = nn.Parameter(torch.zeros_like(sigma))\n",
    "        \n",
    "        # Bias\n",
    "        if linear_layer.bias is not None:\n",
    "            self.bias = nn.Parameter(linear_layer.bias.data.clone())\n",
    "        else:\n",
    "            self.register_parameter('bias', None)\n",
    "            \n",
    "        self.lr_scale = learning_rate_scale\n",
    "        \n",
    "    def forward(self, x):\n",
    "        sigma_new = F.relu(self.sigma_orig + self.delta)\n",
    "        weight = self.U @ torch.diag(sigma_new) @ self.Vt\n",
    "        return F.linear(x, weight, self.bias)"
   ]
  },
  {
   "cell_type": "code",
   "execution_count": 32,
   "id": "f4ea1f43-592f-4da3-89bc-630c1ae2fbd6",
   "metadata": {},
   "outputs": [],
   "source": [
    "def apply_svdiff_to_model(model, conv_lr_scale=1000, linear_lr_scale=1000, \n",
    "                         apply_to_1d_conv=True):\n",
    "    \"\"\"\n",
    "    Apply SVDiff to a model by replacing Conv2d and Linear layers\n",
    "    \n",
    "    Args:\n",
    "        model: The model to apply SVDiff to\n",
    "        conv_lr_scale: Learning rate scale for Conv2d layers\n",
    "        linear_lr_scale: Learning rate scale for Linear layers\n",
    "        apply_to_1d_conv: Whether to apply to 1D convolutions (kernel size 1x1)\n",
    "    \"\"\"\n",
    "    for name, module in model.named_children():\n",
    "        if isinstance(module, nn.Conv2d):\n",
    "            # Check if it's a 1x1 conv (1D in the paper's terminology)\n",
    "            is_1x1 = module.kernel_size == (1, 1) or module.kernel_size == 1\n",
    "            if not is_1x1 or apply_to_1d_conv:\n",
    "                setattr(model, name, SVDConv2d(module, conv_lr_scale))\n",
    "        elif isinstance(module, nn.Linear):\n",
    "            setattr(model, name, SVDLinear(module, linear_lr_scale))\n",
    "        else:\n",
    "            # Recursively apply to child modules\n",
    "            apply_svdiff_to_model(module, conv_lr_scale, linear_lr_scale, apply_to_1d_conv)"
   ]
  },
  {
   "cell_type": "code",
   "execution_count": 33,
   "id": "aea0fe29-7e84-4a4a-b8d3-0b28f1c6130a",
   "metadata": {},
   "outputs": [
    {
     "data": {
      "text/plain": [
       "DiffusionModelUNet(\n",
       "  (conv_in): Convolution(\n",
       "    (conv): Conv3d(3, 32, kernel_size=(3, 3, 3), stride=(1, 1, 1), padding=(1, 1, 1))\n",
       "  )\n",
       "  (time_embed): Sequential(\n",
       "    (0): Linear(in_features=32, out_features=128, bias=True)\n",
       "    (1): SiLU()\n",
       "    (2): Linear(in_features=128, out_features=128, bias=True)\n",
       "  )\n",
       "  (down_blocks): ModuleList(\n",
       "    (0): DownBlock(\n",
       "      (resnets): ModuleList(\n",
       "        (0): ResnetBlock(\n",
       "          (norm1): GroupNorm(32, 32, eps=1e-06, affine=True)\n",
       "          (nonlinearity): SiLU()\n",
       "          (conv1): Convolution(\n",
       "            (conv): Conv3d(32, 32, kernel_size=(3, 3, 3), stride=(1, 1, 1), padding=(1, 1, 1))\n",
       "          )\n",
       "          (time_emb_proj): Linear(in_features=128, out_features=32, bias=True)\n",
       "          (norm2): GroupNorm(32, 32, eps=1e-06, affine=True)\n",
       "          (conv2): Convolution(\n",
       "            (conv): Conv3d(32, 32, kernel_size=(3, 3, 3), stride=(1, 1, 1), padding=(1, 1, 1))\n",
       "          )\n",
       "          (skip_connection): Identity()\n",
       "        )\n",
       "      )\n",
       "      (downsampler): Downsample(\n",
       "        (op): Convolution(\n",
       "          (conv): Conv3d(32, 32, kernel_size=(3, 3, 3), stride=(2, 2, 2), padding=(1, 1, 1))\n",
       "        )\n",
       "      )\n",
       "    )\n",
       "    (1): AttnDownBlock(\n",
       "      (attentions): ModuleList(\n",
       "        (0): AttentionBlock(\n",
       "          (norm): GroupNorm(32, 64, eps=1e-06, affine=True)\n",
       "          (to_q): Linear(in_features=64, out_features=64, bias=True)\n",
       "          (to_k): Linear(in_features=64, out_features=64, bias=True)\n",
       "          (to_v): Linear(in_features=64, out_features=64, bias=True)\n",
       "          (proj_attn): Linear(in_features=64, out_features=64, bias=True)\n",
       "        )\n",
       "      )\n",
       "      (resnets): ModuleList(\n",
       "        (0): ResnetBlock(\n",
       "          (norm1): GroupNorm(32, 32, eps=1e-06, affine=True)\n",
       "          (nonlinearity): SiLU()\n",
       "          (conv1): Convolution(\n",
       "            (conv): Conv3d(32, 64, kernel_size=(3, 3, 3), stride=(1, 1, 1), padding=(1, 1, 1))\n",
       "          )\n",
       "          (time_emb_proj): Linear(in_features=128, out_features=64, bias=True)\n",
       "          (norm2): GroupNorm(32, 64, eps=1e-06, affine=True)\n",
       "          (conv2): Convolution(\n",
       "            (conv): Conv3d(64, 64, kernel_size=(3, 3, 3), stride=(1, 1, 1), padding=(1, 1, 1))\n",
       "          )\n",
       "          (skip_connection): Convolution(\n",
       "            (conv): Conv3d(32, 64, kernel_size=(1, 1, 1), stride=(1, 1, 1))\n",
       "          )\n",
       "        )\n",
       "      )\n",
       "      (downsampler): Downsample(\n",
       "        (op): Convolution(\n",
       "          (conv): Conv3d(64, 64, kernel_size=(3, 3, 3), stride=(2, 2, 2), padding=(1, 1, 1))\n",
       "        )\n",
       "      )\n",
       "    )\n",
       "    (2): AttnDownBlock(\n",
       "      (attentions): ModuleList(\n",
       "        (0): AttentionBlock(\n",
       "          (norm): GroupNorm(32, 64, eps=1e-06, affine=True)\n",
       "          (to_q): Linear(in_features=64, out_features=64, bias=True)\n",
       "          (to_k): Linear(in_features=64, out_features=64, bias=True)\n",
       "          (to_v): Linear(in_features=64, out_features=64, bias=True)\n",
       "          (proj_attn): Linear(in_features=64, out_features=64, bias=True)\n",
       "        )\n",
       "      )\n",
       "      (resnets): ModuleList(\n",
       "        (0): ResnetBlock(\n",
       "          (norm1): GroupNorm(32, 64, eps=1e-06, affine=True)\n",
       "          (nonlinearity): SiLU()\n",
       "          (conv1): Convolution(\n",
       "            (conv): Conv3d(64, 64, kernel_size=(3, 3, 3), stride=(1, 1, 1), padding=(1, 1, 1))\n",
       "          )\n",
       "          (time_emb_proj): Linear(in_features=128, out_features=64, bias=True)\n",
       "          (norm2): GroupNorm(32, 64, eps=1e-06, affine=True)\n",
       "          (conv2): Convolution(\n",
       "            (conv): Conv3d(64, 64, kernel_size=(3, 3, 3), stride=(1, 1, 1), padding=(1, 1, 1))\n",
       "          )\n",
       "          (skip_connection): Identity()\n",
       "        )\n",
       "      )\n",
       "    )\n",
       "  )\n",
       "  (middle_block): AttnMidBlock(\n",
       "    (resnet_1): ResnetBlock(\n",
       "      (norm1): GroupNorm(32, 64, eps=1e-06, affine=True)\n",
       "      (nonlinearity): SiLU()\n",
       "      (conv1): Convolution(\n",
       "        (conv): Conv3d(64, 64, kernel_size=(3, 3, 3), stride=(1, 1, 1), padding=(1, 1, 1))\n",
       "      )\n",
       "      (time_emb_proj): Linear(in_features=128, out_features=64, bias=True)\n",
       "      (norm2): GroupNorm(32, 64, eps=1e-06, affine=True)\n",
       "      (conv2): Convolution(\n",
       "        (conv): Conv3d(64, 64, kernel_size=(3, 3, 3), stride=(1, 1, 1), padding=(1, 1, 1))\n",
       "      )\n",
       "      (skip_connection): Identity()\n",
       "    )\n",
       "    (attention): AttentionBlock(\n",
       "      (norm): GroupNorm(32, 64, eps=1e-06, affine=True)\n",
       "      (to_q): Linear(in_features=64, out_features=64, bias=True)\n",
       "      (to_k): Linear(in_features=64, out_features=64, bias=True)\n",
       "      (to_v): Linear(in_features=64, out_features=64, bias=True)\n",
       "      (proj_attn): Linear(in_features=64, out_features=64, bias=True)\n",
       "    )\n",
       "    (resnet_2): ResnetBlock(\n",
       "      (norm1): GroupNorm(32, 64, eps=1e-06, affine=True)\n",
       "      (nonlinearity): SiLU()\n",
       "      (conv1): Convolution(\n",
       "        (conv): Conv3d(64, 64, kernel_size=(3, 3, 3), stride=(1, 1, 1), padding=(1, 1, 1))\n",
       "      )\n",
       "      (time_emb_proj): Linear(in_features=128, out_features=64, bias=True)\n",
       "      (norm2): GroupNorm(32, 64, eps=1e-06, affine=True)\n",
       "      (conv2): Convolution(\n",
       "        (conv): Conv3d(64, 64, kernel_size=(3, 3, 3), stride=(1, 1, 1), padding=(1, 1, 1))\n",
       "      )\n",
       "      (skip_connection): Identity()\n",
       "    )\n",
       "  )\n",
       "  (up_blocks): ModuleList(\n",
       "    (0): AttnUpBlock(\n",
       "      (resnets): ModuleList(\n",
       "        (0-1): 2 x ResnetBlock(\n",
       "          (norm1): GroupNorm(32, 128, eps=1e-06, affine=True)\n",
       "          (nonlinearity): SiLU()\n",
       "          (conv1): Convolution(\n",
       "            (conv): Conv3d(128, 64, kernel_size=(3, 3, 3), stride=(1, 1, 1), padding=(1, 1, 1))\n",
       "          )\n",
       "          (time_emb_proj): Linear(in_features=128, out_features=64, bias=True)\n",
       "          (norm2): GroupNorm(32, 64, eps=1e-06, affine=True)\n",
       "          (conv2): Convolution(\n",
       "            (conv): Conv3d(64, 64, kernel_size=(3, 3, 3), stride=(1, 1, 1), padding=(1, 1, 1))\n",
       "          )\n",
       "          (skip_connection): Convolution(\n",
       "            (conv): Conv3d(128, 64, kernel_size=(1, 1, 1), stride=(1, 1, 1))\n",
       "          )\n",
       "        )\n",
       "      )\n",
       "      (attentions): ModuleList(\n",
       "        (0-1): 2 x AttentionBlock(\n",
       "          (norm): GroupNorm(32, 64, eps=1e-06, affine=True)\n",
       "          (to_q): Linear(in_features=64, out_features=64, bias=True)\n",
       "          (to_k): Linear(in_features=64, out_features=64, bias=True)\n",
       "          (to_v): Linear(in_features=64, out_features=64, bias=True)\n",
       "          (proj_attn): Linear(in_features=64, out_features=64, bias=True)\n",
       "        )\n",
       "      )\n",
       "      (upsampler): Upsample(\n",
       "        (conv): Convolution(\n",
       "          (conv): Conv3d(64, 64, kernel_size=(3, 3, 3), stride=(1, 1, 1), padding=(1, 1, 1))\n",
       "        )\n",
       "      )\n",
       "    )\n",
       "    (1): AttnUpBlock(\n",
       "      (resnets): ModuleList(\n",
       "        (0): ResnetBlock(\n",
       "          (norm1): GroupNorm(32, 128, eps=1e-06, affine=True)\n",
       "          (nonlinearity): SiLU()\n",
       "          (conv1): Convolution(\n",
       "            (conv): Conv3d(128, 64, kernel_size=(3, 3, 3), stride=(1, 1, 1), padding=(1, 1, 1))\n",
       "          )\n",
       "          (time_emb_proj): Linear(in_features=128, out_features=64, bias=True)\n",
       "          (norm2): GroupNorm(32, 64, eps=1e-06, affine=True)\n",
       "          (conv2): Convolution(\n",
       "            (conv): Conv3d(64, 64, kernel_size=(3, 3, 3), stride=(1, 1, 1), padding=(1, 1, 1))\n",
       "          )\n",
       "          (skip_connection): Convolution(\n",
       "            (conv): Conv3d(128, 64, kernel_size=(1, 1, 1), stride=(1, 1, 1))\n",
       "          )\n",
       "        )\n",
       "        (1): ResnetBlock(\n",
       "          (norm1): GroupNorm(32, 96, eps=1e-06, affine=True)\n",
       "          (nonlinearity): SiLU()\n",
       "          (conv1): Convolution(\n",
       "            (conv): Conv3d(96, 64, kernel_size=(3, 3, 3), stride=(1, 1, 1), padding=(1, 1, 1))\n",
       "          )\n",
       "          (time_emb_proj): Linear(in_features=128, out_features=64, bias=True)\n",
       "          (norm2): GroupNorm(32, 64, eps=1e-06, affine=True)\n",
       "          (conv2): Convolution(\n",
       "            (conv): Conv3d(64, 64, kernel_size=(3, 3, 3), stride=(1, 1, 1), padding=(1, 1, 1))\n",
       "          )\n",
       "          (skip_connection): Convolution(\n",
       "            (conv): Conv3d(96, 64, kernel_size=(1, 1, 1), stride=(1, 1, 1))\n",
       "          )\n",
       "        )\n",
       "      )\n",
       "      (attentions): ModuleList(\n",
       "        (0-1): 2 x AttentionBlock(\n",
       "          (norm): GroupNorm(32, 64, eps=1e-06, affine=True)\n",
       "          (to_q): Linear(in_features=64, out_features=64, bias=True)\n",
       "          (to_k): Linear(in_features=64, out_features=64, bias=True)\n",
       "          (to_v): Linear(in_features=64, out_features=64, bias=True)\n",
       "          (proj_attn): Linear(in_features=64, out_features=64, bias=True)\n",
       "        )\n",
       "      )\n",
       "      (upsampler): Upsample(\n",
       "        (conv): Convolution(\n",
       "          (conv): Conv3d(64, 64, kernel_size=(3, 3, 3), stride=(1, 1, 1), padding=(1, 1, 1))\n",
       "        )\n",
       "      )\n",
       "    )\n",
       "    (2): UpBlock(\n",
       "      (resnets): ModuleList(\n",
       "        (0): ResnetBlock(\n",
       "          (norm1): GroupNorm(32, 96, eps=1e-06, affine=True)\n",
       "          (nonlinearity): SiLU()\n",
       "          (conv1): Convolution(\n",
       "            (conv): Conv3d(96, 32, kernel_size=(3, 3, 3), stride=(1, 1, 1), padding=(1, 1, 1))\n",
       "          )\n",
       "          (time_emb_proj): Linear(in_features=128, out_features=32, bias=True)\n",
       "          (norm2): GroupNorm(32, 32, eps=1e-06, affine=True)\n",
       "          (conv2): Convolution(\n",
       "            (conv): Conv3d(32, 32, kernel_size=(3, 3, 3), stride=(1, 1, 1), padding=(1, 1, 1))\n",
       "          )\n",
       "          (skip_connection): Convolution(\n",
       "            (conv): Conv3d(96, 32, kernel_size=(1, 1, 1), stride=(1, 1, 1))\n",
       "          )\n",
       "        )\n",
       "        (1): ResnetBlock(\n",
       "          (norm1): GroupNorm(32, 64, eps=1e-06, affine=True)\n",
       "          (nonlinearity): SiLU()\n",
       "          (conv1): Convolution(\n",
       "            (conv): Conv3d(64, 32, kernel_size=(3, 3, 3), stride=(1, 1, 1), padding=(1, 1, 1))\n",
       "          )\n",
       "          (time_emb_proj): Linear(in_features=128, out_features=32, bias=True)\n",
       "          (norm2): GroupNorm(32, 32, eps=1e-06, affine=True)\n",
       "          (conv2): Convolution(\n",
       "            (conv): Conv3d(32, 32, kernel_size=(3, 3, 3), stride=(1, 1, 1), padding=(1, 1, 1))\n",
       "          )\n",
       "          (skip_connection): Convolution(\n",
       "            (conv): Conv3d(64, 32, kernel_size=(1, 1, 1), stride=(1, 1, 1))\n",
       "          )\n",
       "        )\n",
       "      )\n",
       "    )\n",
       "  )\n",
       "  (out): Sequential(\n",
       "    (0): GroupNorm(32, 32, eps=1e-06, affine=True)\n",
       "    (1): SiLU()\n",
       "    (2): Convolution(\n",
       "      (conv): Conv3d(32, 3, kernel_size=(3, 3, 3), stride=(1, 1, 1), padding=(1, 1, 1))\n",
       "    )\n",
       "  )\n",
       ")"
      ]
     },
     "execution_count": 33,
     "metadata": {},
     "output_type": "execute_result"
    }
   ],
   "source": [
    "unet = DiffusionModelUNet(\n",
    "    spatial_dims=3,\n",
    "    in_channels=3,\n",
    "    out_channels=3,\n",
    "    num_res_blocks=1,\n",
    "    num_channels=(32, 64, 64),\n",
    "    attention_levels=(False, True, True),\n",
    "    num_head_channels=(0, 64, 64),\n",
    ")\n",
    "unet.to(device)"
   ]
  },
  {
   "cell_type": "code",
   "execution_count": 34,
   "id": "bf8c39ce-a609-455b-8aa0-b9f899ae30be",
   "metadata": {},
   "outputs": [
    {
     "name": "stdout",
     "output_type": "stream",
     "text": [
      "Applying SVDiff to the model...\n",
      "SVDiff applied successfully!\n",
      "\n",
      "Total parameters: 3,147,107\n",
      "Trainable parameters: 2,763,619\n",
      "Trainable parameter ratio: 0.8781\n"
     ]
    }
   ],
   "source": [
    "# Apply SVDiff to the model\n",
    "print(\"Applying SVDiff to the model...\")\n",
    "apply_svdiff_to_model(unet)\n",
    "print(\"SVDiff applied successfully!\")\n",
    "\n",
    "# Count parameters\n",
    "total_params = 0\n",
    "trainable_params = 0\n",
    "\n",
    "for name, param in unet.named_parameters():\n",
    "    total_params += param.numel()\n",
    "    if param.requires_grad:\n",
    "        trainable_params += param.numel()\n",
    "\n",
    "# Also count buffers (frozen U and V^T matrices)\n",
    "for name, buffer in unet.named_buffers():\n",
    "    if buffer is not None:\n",
    "        total_params += buffer.numel()\n",
    "\n",
    "ratio = trainable_params / total_params if total_params > 0 else 0\n",
    "\n",
    "print(f\"\\nTotal parameters: {total_params:,}\")\n",
    "print(f\"Trainable parameters: {trainable_params:,}\")\n",
    "print(f\"Trainable parameter ratio: {ratio:.4f}\")"
   ]
  },
  {
   "cell_type": "code",
   "execution_count": null,
   "id": "b5a065a1-be0d-4add-8eb6-b3e9e689dd53",
   "metadata": {},
   "outputs": [],
   "source": []
  }
 ],
 "metadata": {
  "kernelspec": {
   "display_name": "Python 3 (ipykernel)",
   "language": "python",
   "name": "python3"
  },
  "language_info": {
   "codemirror_mode": {
    "name": "ipython",
    "version": 3
   },
   "file_extension": ".py",
   "mimetype": "text/x-python",
   "name": "python",
   "nbconvert_exporter": "python",
   "pygments_lexer": "ipython3",
   "version": "3.10.16"
  }
 },
 "nbformat": 4,
 "nbformat_minor": 5
}
